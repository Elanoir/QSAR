{
  "cells": [
    {
      "cell_type": "markdown",
      "metadata": {
        "id": "uf0WLRAGblpr"
      },
      "source": [
        "# Aprendizagem Automática 2022/2023\n",
        "Group 19\\\n",
        "Daniela Moutinho   \tNº 57064\\\n",
        "Diana Moreno         \tNº 51549\\\n",
        "Paulo Martins         \tNº 37426\n",
        "\n",
        "## Second Home Assignment\n",
        "\n",
        "\n",
        "\n",
        "The QSAR (Quantitative Structure Activity Relationships) Biodegradation dataset contains 41 attributes (molecular descriptors) used to classify 1055 chemicals into 2 classes: ready and not ready biodegradable. \n",
        "\n",
        "### Aims\n",
        "\n",
        ". Provide the best possible classification models using whatever method\\\n",
        ". Variable to Classify is Biodegradable\\\n",
        ". Models should examine different hyperparameters and select the best one\\\n",
        ". Simple Cross Validation (testing=25%) for evaluating the models (same data partitions must be used for all models)\n",
        "\n",
        "### Objectives\n",
        "\n",
        ". Produce the best Classification model\\\n",
        ". Identify the most significant features"
      ]
    },
    {
      "cell_type": "markdown",
      "source": [
        "## Imports:"
      ],
      "metadata": {
        "id": "XOuMDpEnrbeJ"
      }
    },
    {
      "cell_type": "code",
      "execution_count": null,
      "metadata": {
        "id": "bmp15i3Rblp1"
      },
      "outputs": [],
      "source": [
        "import numpy as np\n",
        "import pandas as pd\n",
        "import matplotlib.pyplot as plt\n",
        "from matplotlib import rcParams\n",
        "import seaborn as sns\n",
        "#!pip install seaborn==0.11.0\n",
        "#!pip install scikit-learn==0.24.1\n",
        "#!pip install imblearn"
      ]
    },
    {
      "cell_type": "markdown",
      "metadata": {
        "id": "0pWJin1Yblp9"
      },
      "source": [
        "## Exploratory Data Analysis (1.1)\n",
        "\n",
        "We need to understand our dataset and the variables in study.\n",
        "\n",
        "There are 42 variables, one of them is the target variable \"Biodegradable\".\\\n",
        "And the dataset has 4564 chemicals."
      ]
    },
    {
      "cell_type": "code",
      "execution_count": null,
      "metadata": {
        "colab": {
          "base_uri": "https://localhost:8080/"
        },
        "id": "LuLnOwwablp-",
        "outputId": "8375ebef-5283-4f30-87b6-1af4fcb38686"
      },
      "outputs": [
        {
          "output_type": "execute_result",
          "data": {
            "text/plain": [
              "(4564, 42)"
            ]
          },
          "metadata": {},
          "execution_count": 4
        }
      ],
      "source": [
        "biodeg.shape"
      ]
    },
    {
      "cell_type": "code",
      "execution_count": null,
      "metadata": {
        "colab": {
          "base_uri": "https://localhost:8080/",
          "height": 393
        },
        "id": "n6kcIlkYblqA",
        "outputId": "14de3005-5a4e-4545-89e7-5590aa914add"
      },
      "outputs": [
        {
          "output_type": "execute_result",
          "data": {
            "text/plain": [
              "           SpMax_L      J_Dz(e)          nHM          F01          F04  \\\n",
              "count  4564.000000  4564.000000  4564.000000  4049.000000  4564.000000   \n",
              "mean      4.553679     3.103605     0.180762     0.010373     0.264680   \n",
              "std       0.480677     0.618921     0.775172     0.127266     1.219524   \n",
              "min       2.000000     0.803900     0.000000     0.000000     0.000000   \n",
              "25%       4.297888     2.736054     0.000000     0.000000     0.000000   \n",
              "50%       4.579039     3.078901     0.000000     0.000000     0.000000   \n",
              "75%       4.869022     3.417500     0.000000     0.000000     0.000000   \n",
              "max       6.496000     9.177500    12.000000     3.000000    36.000000   \n",
              "\n",
              "            NssssC          nCb            C          nCp           nO  ...  \\\n",
              "count  4564.000000  4564.000000  3797.000000  3893.000000  4564.000000  ...   \n",
              "mean      0.069676     0.886503    35.100603     1.225790     2.048642  ...   \n",
              "std       0.541474     1.429565     8.287902     1.333277     1.509354  ...   \n",
              "min       0.000000     0.000000     0.000000     0.000000     0.000000  ...   \n",
              "25%       0.000000     0.000000    30.000000     0.000000     1.000000  ...   \n",
              "50%       0.000000     0.000000    33.300000     1.000000     2.000000  ...   \n",
              "75%       0.000000     2.000000    41.362696     2.000000     3.000000  ...   \n",
              "max      13.000000    18.000000    60.700000    24.000000    12.000000  ...   \n",
              "\n",
              "              nCrt        C_026       F02_CN        nHDon      SpMax_B  \\\n",
              "count  4306.000000  4564.000000  4564.000000  4564.000000  3206.000000   \n",
              "mean      0.031584     0.332603     0.415644     0.777388     3.594392   \n",
              "std       0.323204     0.903048     1.296882     1.160364     0.588620   \n",
              "min       0.000000     0.000000     0.000000     0.000000     2.267000   \n",
              "25%       0.000000     0.000000     0.000000     0.000000     3.361406   \n",
              "50%       0.000000     0.000000     0.000000     0.000000     3.529299   \n",
              "75%       0.000000     0.000000     0.000000     1.000000     3.732744   \n",
              "max       8.000000    12.000000    18.000000     7.000000    10.428000   \n",
              "\n",
              "           Psi_i_A           nN        SM6_B      nArCOOR           nX  \n",
              "count  4104.000000  4564.000000  4564.000000  4564.000000  3882.000000  \n",
              "mean      2.633800     0.267090     8.133804     0.091805     0.170273  \n",
              "std       0.615330     0.683133     0.897383     0.415705     1.151995  \n",
              "min       1.467000     0.000000     4.917000     0.000000     0.000000  \n",
              "25%       2.188000     0.000000     7.700582     0.000000     0.000000  \n",
              "50%       2.565157     0.000000     8.090426     0.000000     0.000000  \n",
              "75%       2.952000     0.000000     8.560427     0.000000     0.000000  \n",
              "max       5.825000     8.000000    14.700000     4.000000    27.000000  \n",
              "\n",
              "[8 rows x 41 columns]"
            ],
            "text/html": [
              "\n",
              "  <div id=\"df-6cc17fe6-3449-4d20-ae52-e6468b562903\">\n",
              "    <div class=\"colab-df-container\">\n",
              "      <div>\n",
              "<style scoped>\n",
              "    .dataframe tbody tr th:only-of-type {\n",
              "        vertical-align: middle;\n",
              "    }\n",
              "\n",
              "    .dataframe tbody tr th {\n",
              "        vertical-align: top;\n",
              "    }\n",
              "\n",
              "    .dataframe thead th {\n",
              "        text-align: right;\n",
              "    }\n",
              "</style>\n",
              "<table border=\"1\" class=\"dataframe\">\n",
              "  <thead>\n",
              "    <tr style=\"text-align: right;\">\n",
              "      <th></th>\n",
              "      <th>SpMax_L</th>\n",
              "      <th>J_Dz(e)</th>\n",
              "      <th>nHM</th>\n",
              "      <th>F01</th>\n",
              "      <th>F04</th>\n",
              "      <th>NssssC</th>\n",
              "      <th>nCb</th>\n",
              "      <th>C</th>\n",
              "      <th>nCp</th>\n",
              "      <th>nO</th>\n",
              "      <th>...</th>\n",
              "      <th>nCrt</th>\n",
              "      <th>C_026</th>\n",
              "      <th>F02_CN</th>\n",
              "      <th>nHDon</th>\n",
              "      <th>SpMax_B</th>\n",
              "      <th>Psi_i_A</th>\n",
              "      <th>nN</th>\n",
              "      <th>SM6_B</th>\n",
              "      <th>nArCOOR</th>\n",
              "      <th>nX</th>\n",
              "    </tr>\n",
              "  </thead>\n",
              "  <tbody>\n",
              "    <tr>\n",
              "      <th>count</th>\n",
              "      <td>4564.000000</td>\n",
              "      <td>4564.000000</td>\n",
              "      <td>4564.000000</td>\n",
              "      <td>4049.000000</td>\n",
              "      <td>4564.000000</td>\n",
              "      <td>4564.000000</td>\n",
              "      <td>4564.000000</td>\n",
              "      <td>3797.000000</td>\n",
              "      <td>3893.000000</td>\n",
              "      <td>4564.000000</td>\n",
              "      <td>...</td>\n",
              "      <td>4306.000000</td>\n",
              "      <td>4564.000000</td>\n",
              "      <td>4564.000000</td>\n",
              "      <td>4564.000000</td>\n",
              "      <td>3206.000000</td>\n",
              "      <td>4104.000000</td>\n",
              "      <td>4564.000000</td>\n",
              "      <td>4564.000000</td>\n",
              "      <td>4564.000000</td>\n",
              "      <td>3882.000000</td>\n",
              "    </tr>\n",
              "    <tr>\n",
              "      <th>mean</th>\n",
              "      <td>4.553679</td>\n",
              "      <td>3.103605</td>\n",
              "      <td>0.180762</td>\n",
              "      <td>0.010373</td>\n",
              "      <td>0.264680</td>\n",
              "      <td>0.069676</td>\n",
              "      <td>0.886503</td>\n",
              "      <td>35.100603</td>\n",
              "      <td>1.225790</td>\n",
              "      <td>2.048642</td>\n",
              "      <td>...</td>\n",
              "      <td>0.031584</td>\n",
              "      <td>0.332603</td>\n",
              "      <td>0.415644</td>\n",
              "      <td>0.777388</td>\n",
              "      <td>3.594392</td>\n",
              "      <td>2.633800</td>\n",
              "      <td>0.267090</td>\n",
              "      <td>8.133804</td>\n",
              "      <td>0.091805</td>\n",
              "      <td>0.170273</td>\n",
              "    </tr>\n",
              "    <tr>\n",
              "      <th>std</th>\n",
              "      <td>0.480677</td>\n",
              "      <td>0.618921</td>\n",
              "      <td>0.775172</td>\n",
              "      <td>0.127266</td>\n",
              "      <td>1.219524</td>\n",
              "      <td>0.541474</td>\n",
              "      <td>1.429565</td>\n",
              "      <td>8.287902</td>\n",
              "      <td>1.333277</td>\n",
              "      <td>1.509354</td>\n",
              "      <td>...</td>\n",
              "      <td>0.323204</td>\n",
              "      <td>0.903048</td>\n",
              "      <td>1.296882</td>\n",
              "      <td>1.160364</td>\n",
              "      <td>0.588620</td>\n",
              "      <td>0.615330</td>\n",
              "      <td>0.683133</td>\n",
              "      <td>0.897383</td>\n",
              "      <td>0.415705</td>\n",
              "      <td>1.151995</td>\n",
              "    </tr>\n",
              "    <tr>\n",
              "      <th>min</th>\n",
              "      <td>2.000000</td>\n",
              "      <td>0.803900</td>\n",
              "      <td>0.000000</td>\n",
              "      <td>0.000000</td>\n",
              "      <td>0.000000</td>\n",
              "      <td>0.000000</td>\n",
              "      <td>0.000000</td>\n",
              "      <td>0.000000</td>\n",
              "      <td>0.000000</td>\n",
              "      <td>0.000000</td>\n",
              "      <td>...</td>\n",
              "      <td>0.000000</td>\n",
              "      <td>0.000000</td>\n",
              "      <td>0.000000</td>\n",
              "      <td>0.000000</td>\n",
              "      <td>2.267000</td>\n",
              "      <td>1.467000</td>\n",
              "      <td>0.000000</td>\n",
              "      <td>4.917000</td>\n",
              "      <td>0.000000</td>\n",
              "      <td>0.000000</td>\n",
              "    </tr>\n",
              "    <tr>\n",
              "      <th>25%</th>\n",
              "      <td>4.297888</td>\n",
              "      <td>2.736054</td>\n",
              "      <td>0.000000</td>\n",
              "      <td>0.000000</td>\n",
              "      <td>0.000000</td>\n",
              "      <td>0.000000</td>\n",
              "      <td>0.000000</td>\n",
              "      <td>30.000000</td>\n",
              "      <td>0.000000</td>\n",
              "      <td>1.000000</td>\n",
              "      <td>...</td>\n",
              "      <td>0.000000</td>\n",
              "      <td>0.000000</td>\n",
              "      <td>0.000000</td>\n",
              "      <td>0.000000</td>\n",
              "      <td>3.361406</td>\n",
              "      <td>2.188000</td>\n",
              "      <td>0.000000</td>\n",
              "      <td>7.700582</td>\n",
              "      <td>0.000000</td>\n",
              "      <td>0.000000</td>\n",
              "    </tr>\n",
              "    <tr>\n",
              "      <th>50%</th>\n",
              "      <td>4.579039</td>\n",
              "      <td>3.078901</td>\n",
              "      <td>0.000000</td>\n",
              "      <td>0.000000</td>\n",
              "      <td>0.000000</td>\n",
              "      <td>0.000000</td>\n",
              "      <td>0.000000</td>\n",
              "      <td>33.300000</td>\n",
              "      <td>1.000000</td>\n",
              "      <td>2.000000</td>\n",
              "      <td>...</td>\n",
              "      <td>0.000000</td>\n",
              "      <td>0.000000</td>\n",
              "      <td>0.000000</td>\n",
              "      <td>0.000000</td>\n",
              "      <td>3.529299</td>\n",
              "      <td>2.565157</td>\n",
              "      <td>0.000000</td>\n",
              "      <td>8.090426</td>\n",
              "      <td>0.000000</td>\n",
              "      <td>0.000000</td>\n",
              "    </tr>\n",
              "    <tr>\n",
              "      <th>75%</th>\n",
              "      <td>4.869022</td>\n",
              "      <td>3.417500</td>\n",
              "      <td>0.000000</td>\n",
              "      <td>0.000000</td>\n",
              "      <td>0.000000</td>\n",
              "      <td>0.000000</td>\n",
              "      <td>2.000000</td>\n",
              "      <td>41.362696</td>\n",
              "      <td>2.000000</td>\n",
              "      <td>3.000000</td>\n",
              "      <td>...</td>\n",
              "      <td>0.000000</td>\n",
              "      <td>0.000000</td>\n",
              "      <td>0.000000</td>\n",
              "      <td>1.000000</td>\n",
              "      <td>3.732744</td>\n",
              "      <td>2.952000</td>\n",
              "      <td>0.000000</td>\n",
              "      <td>8.560427</td>\n",
              "      <td>0.000000</td>\n",
              "      <td>0.000000</td>\n",
              "    </tr>\n",
              "    <tr>\n",
              "      <th>max</th>\n",
              "      <td>6.496000</td>\n",
              "      <td>9.177500</td>\n",
              "      <td>12.000000</td>\n",
              "      <td>3.000000</td>\n",
              "      <td>36.000000</td>\n",
              "      <td>13.000000</td>\n",
              "      <td>18.000000</td>\n",
              "      <td>60.700000</td>\n",
              "      <td>24.000000</td>\n",
              "      <td>12.000000</td>\n",
              "      <td>...</td>\n",
              "      <td>8.000000</td>\n",
              "      <td>12.000000</td>\n",
              "      <td>18.000000</td>\n",
              "      <td>7.000000</td>\n",
              "      <td>10.428000</td>\n",
              "      <td>5.825000</td>\n",
              "      <td>8.000000</td>\n",
              "      <td>14.700000</td>\n",
              "      <td>4.000000</td>\n",
              "      <td>27.000000</td>\n",
              "    </tr>\n",
              "  </tbody>\n",
              "</table>\n",
              "<p>8 rows × 41 columns</p>\n",
              "</div>\n",
              "      <button class=\"colab-df-convert\" onclick=\"convertToInteractive('df-6cc17fe6-3449-4d20-ae52-e6468b562903')\"\n",
              "              title=\"Convert this dataframe to an interactive table.\"\n",
              "              style=\"display:none;\">\n",
              "        \n",
              "  <svg xmlns=\"http://www.w3.org/2000/svg\" height=\"24px\"viewBox=\"0 0 24 24\"\n",
              "       width=\"24px\">\n",
              "    <path d=\"M0 0h24v24H0V0z\" fill=\"none\"/>\n",
              "    <path d=\"M18.56 5.44l.94 2.06.94-2.06 2.06-.94-2.06-.94-.94-2.06-.94 2.06-2.06.94zm-11 1L8.5 8.5l.94-2.06 2.06-.94-2.06-.94L8.5 2.5l-.94 2.06-2.06.94zm10 10l.94 2.06.94-2.06 2.06-.94-2.06-.94-.94-2.06-.94 2.06-2.06.94z\"/><path d=\"M17.41 7.96l-1.37-1.37c-.4-.4-.92-.59-1.43-.59-.52 0-1.04.2-1.43.59L10.3 9.45l-7.72 7.72c-.78.78-.78 2.05 0 2.83L4 21.41c.39.39.9.59 1.41.59.51 0 1.02-.2 1.41-.59l7.78-7.78 2.81-2.81c.8-.78.8-2.07 0-2.86zM5.41 20L4 18.59l7.72-7.72 1.47 1.35L5.41 20z\"/>\n",
              "  </svg>\n",
              "      </button>\n",
              "      \n",
              "  <style>\n",
              "    .colab-df-container {\n",
              "      display:flex;\n",
              "      flex-wrap:wrap;\n",
              "      gap: 12px;\n",
              "    }\n",
              "\n",
              "    .colab-df-convert {\n",
              "      background-color: #E8F0FE;\n",
              "      border: none;\n",
              "      border-radius: 50%;\n",
              "      cursor: pointer;\n",
              "      display: none;\n",
              "      fill: #1967D2;\n",
              "      height: 32px;\n",
              "      padding: 0 0 0 0;\n",
              "      width: 32px;\n",
              "    }\n",
              "\n",
              "    .colab-df-convert:hover {\n",
              "      background-color: #E2EBFA;\n",
              "      box-shadow: 0px 1px 2px rgba(60, 64, 67, 0.3), 0px 1px 3px 1px rgba(60, 64, 67, 0.15);\n",
              "      fill: #174EA6;\n",
              "    }\n",
              "\n",
              "    [theme=dark] .colab-df-convert {\n",
              "      background-color: #3B4455;\n",
              "      fill: #D2E3FC;\n",
              "    }\n",
              "\n",
              "    [theme=dark] .colab-df-convert:hover {\n",
              "      background-color: #434B5C;\n",
              "      box-shadow: 0px 1px 3px 1px rgba(0, 0, 0, 0.15);\n",
              "      filter: drop-shadow(0px 1px 2px rgba(0, 0, 0, 0.3));\n",
              "      fill: #FFFFFF;\n",
              "    }\n",
              "  </style>\n",
              "\n",
              "      <script>\n",
              "        const buttonEl =\n",
              "          document.querySelector('#df-6cc17fe6-3449-4d20-ae52-e6468b562903 button.colab-df-convert');\n",
              "        buttonEl.style.display =\n",
              "          google.colab.kernel.accessAllowed ? 'block' : 'none';\n",
              "\n",
              "        async function convertToInteractive(key) {\n",
              "          const element = document.querySelector('#df-6cc17fe6-3449-4d20-ae52-e6468b562903');\n",
              "          const dataTable =\n",
              "            await google.colab.kernel.invokeFunction('convertToInteractive',\n",
              "                                                     [key], {});\n",
              "          if (!dataTable) return;\n",
              "\n",
              "          const docLinkHtml = 'Like what you see? Visit the ' +\n",
              "            '<a target=\"_blank\" href=https://colab.research.google.com/notebooks/data_table.ipynb>data table notebook</a>'\n",
              "            + ' to learn more about interactive tables.';\n",
              "          element.innerHTML = '';\n",
              "          dataTable['output_type'] = 'display_data';\n",
              "          await google.colab.output.renderOutput(dataTable, element);\n",
              "          const docLink = document.createElement('div');\n",
              "          docLink.innerHTML = docLinkHtml;\n",
              "          element.appendChild(docLink);\n",
              "        }\n",
              "      </script>\n",
              "    </div>\n",
              "  </div>\n",
              "  "
            ]
          },
          "metadata": {},
          "execution_count": 5
        }
      ],
      "source": [
        "biodeg.describe()"
      ]
    },
    {
      "cell_type": "code",
      "execution_count": null,
      "metadata": {
        "id": "ZLGZKV08blqC"
      },
      "outputs": [],
      "source": [
        "#biodeg.info()"
      ]
    },
    {
      "cell_type": "markdown",
      "metadata": {
        "id": "nP_ZedXBblqD"
      },
      "source": [
        "### Analyzing Target Variable: Biodegradable"
      ]
    },
    {
      "cell_type": "markdown",
      "metadata": {
        "id": "CuqydHIjblqE"
      },
      "source": [
        "y: \"Biodegradable\" (binary: ready biodegradable (RB) and not ready biodegradable (NRB))"
      ]
    },
    {
      "cell_type": "code",
      "execution_count": null,
      "metadata": {
        "colab": {
          "base_uri": "https://localhost:8080/"
        },
        "id": "vemC5lvvblqF",
        "outputId": "fdefb02a-70cf-4b82-9143-e4163f5f4cc8"
      },
      "outputs": [
        {
          "output_type": "execute_result",
          "data": {
            "text/plain": [
              "RB     3825\n",
              "NRB     739\n",
              "Name: Biodegradable, dtype: int64"
            ]
          },
          "metadata": {},
          "execution_count": 272
        }
      ],
      "source": [
        "biodeg.Biodegradable.value_counts()"
      ]
    },
    {
      "cell_type": "code",
      "execution_count": null,
      "metadata": {
        "colab": {
          "base_uri": "https://localhost:8080/",
          "height": 298
        },
        "id": "0pzMC6GRblqG",
        "outputId": "a234d615-3a60-44d6-c730-ea64b03ca5c0"
      },
      "outputs": [
        {
          "output_type": "execute_result",
          "data": {
            "text/plain": [
              "<matplotlib.axes._subplots.AxesSubplot at 0x7f198447e820>"
            ]
          },
          "metadata": {},
          "execution_count": 273
        },
        {
          "output_type": "display_data",
          "data": {
            "text/plain": [
              "<Figure size 432x288 with 1 Axes>"
            ],
            "image/png": "[encoded data removed]"
          },
          "metadata": {
            "needs_background": "light"
          }
        }
      ],
      "source": [
        "biodeg.Biodegradable.value_counts().plot(kind=\"bar\")"
      ]
    },
    {
      "cell_type": "code",
      "execution_count": null,
      "metadata": {
        "colab": {
          "base_uri": "https://localhost:8080/"
        },
        "id": "ABhYTQn9blqG",
        "outputId": "7efe62c7-e85e-4127-8ebc-946a6937d869"
      },
      "outputs": [
        {
          "output_type": "stream",
          "name": "stdout",
          "text": [
            "Percentage of each Biodegradable class:\n",
            "RB  = 83.81% \n",
            "NRB = 16.19%\n"
          ]
        }
      ],
      "source": [
        "a=3825/4564*100\n",
        "b=739/4564*100\n",
        "print(\"Percentage of each Biodegradable class:\")\n",
        "print(f\"RB  = {a:.2f}% \")\n",
        "print(f\"NRB = {b:.2f}%\")"
      ]
    },
    {
      "cell_type": "markdown",
      "metadata": {
        "id": "C35mYrHGblqJ"
      },
      "source": [
        "The classes are not balanced! It should be balanced.\\\n",
        "Or else, for feature selection we should use, for example, Random Forests."
      ]
    },
    {
      "cell_type": "code",
      "execution_count": null,
      "metadata": {
        "id": "iVZCadhsblqJ"
      },
      "outputs": [],
      "source": [
        "# Let's change Biodegradable into a '0' and '1' category\n",
        "biodeg['Biodegradable'] = biodeg['Biodegradable'].replace(['RB'], 1)\n",
        "biodeg['Biodegradable'] = biodeg['Biodegradable'].replace(['NRB'], 0)"
      ]
    },
    {
      "cell_type": "markdown",
      "metadata": {
        "id": "-vLvpzihblqK"
      },
      "source": [
        "### Analyzing Independent Variables"
      ]
    },
    {
      "cell_type": "markdown",
      "metadata": {
        "id": "5mBPCghsblqL"
      },
      "source": [
        "We kept the 41 independent variables in the study.\\\n",
        "Let's take a look of differences between \"Biodegradable\" classes.\\\n",
        "Let's see the variables' mean differences among classes."
      ]
    },
    {
      "cell_type": "code",
      "execution_count": null,
      "metadata": {
        "colab": {
          "base_uri": "https://localhost:8080/",
          "height": 237
        },
        "id": "JzGrpS21blqL",
        "outputId": "23e7313f-1964-4564-80b2-5155f326b670"
      },
      "outputs": [
        {
          "output_type": "execute_result",
          "data": {
            "text/plain": [
              "                SpMax_L   J_Dz(e)       nHM       F01       F04    NssssC  \\\n",
              "Biodegradable                                                               \n",
              "0              4.930837  3.078459  1.002706  0.060332  1.331529  0.414073   \n",
              "1              4.480811  3.108463  0.021961  0.000591  0.058562  0.003137   \n",
              "\n",
              "                    nCb          C       nCp        nO  ...      nCrt  \\\n",
              "Biodegradable                                           ...             \n",
              "0              2.156969  38.200593  1.456869  1.564276  ...  0.175809   \n",
              "1              0.641046  34.507257  1.181512  2.142222  ...  0.003060   \n",
              "\n",
              "                  C_026    F02_CN     nHDon   SpMax_B   Psi_i_A        nN  \\\n",
              "Biodegradable                                                               \n",
              "0              1.211096  1.679296  0.974290  4.107641  2.499526  0.874154   \n",
              "1              0.162876  0.171503  0.739346  3.495939  2.659346  0.149804   \n",
              "\n",
              "                  SM6_B   nArCOOR        nX  \n",
              "Biodegradable                                \n",
              "0              8.953120  0.016238  1.006240  \n",
              "1              7.975511  0.106405  0.004937  \n",
              "\n",
              "[2 rows x 41 columns]"
            ],
            "text/html": [
              "\n",
              "  <div id=\"df-0a5e80b3-b3a7-49b1-b158-cad31887e11a\">\n",
              "    <div class=\"colab-df-container\">\n",
              "      <div>\n",
              "<style scoped>\n",
              "    .dataframe tbody tr th:only-of-type {\n",
              "        vertical-align: middle;\n",
              "    }\n",
              "\n",
              "    .dataframe tbody tr th {\n",
              "        vertical-align: top;\n",
              "    }\n",
              "\n",
              "    .dataframe thead th {\n",
              "        text-align: right;\n",
              "    }\n",
              "</style>\n",
              "<table border=\"1\" class=\"dataframe\">\n",
              "  <thead>\n",
              "    <tr style=\"text-align: right;\">\n",
              "      <th></th>\n",
              "      <th>SpMax_L</th>\n",
              "      <th>J_Dz(e)</th>\n",
              "      <th>nHM</th>\n",
              "      <th>F01</th>\n",
              "      <th>F04</th>\n",
              "      <th>NssssC</th>\n",
              "      <th>nCb</th>\n",
              "      <th>C</th>\n",
              "      <th>nCp</th>\n",
              "      <th>nO</th>\n",
              "      <th>...</th>\n",
              "      <th>nCrt</th>\n",
              "      <th>C_026</th>\n",
              "      <th>F02_CN</th>\n",
              "      <th>nHDon</th>\n",
              "      <th>SpMax_B</th>\n",
              "      <th>Psi_i_A</th>\n",
              "      <th>nN</th>\n",
              "      <th>SM6_B</th>\n",
              "      <th>nArCOOR</th>\n",
              "      <th>nX</th>\n",
              "    </tr>\n",
              "    <tr>\n",
              "      <th>Biodegradable</th>\n",
              "      <th></th>\n",
              "      <th></th>\n",
              "      <th></th>\n",
              "      <th></th>\n",
              "      <th></th>\n",
              "      <th></th>\n",
              "      <th></th>\n",
              "      <th></th>\n",
              "      <th></th>\n",
              "      <th></th>\n",
              "      <th></th>\n",
              "      <th></th>\n",
              "      <th></th>\n",
              "      <th></th>\n",
              "      <th></th>\n",
              "      <th></th>\n",
              "      <th></th>\n",
              "      <th></th>\n",
              "      <th></th>\n",
              "      <th></th>\n",
              "      <th></th>\n",
              "    </tr>\n",
              "  </thead>\n",
              "  <tbody>\n",
              "    <tr>\n",
              "      <th>0</th>\n",
              "      <td>4.930837</td>\n",
              "      <td>3.078459</td>\n",
              "      <td>1.002706</td>\n",
              "      <td>0.060332</td>\n",
              "      <td>1.331529</td>\n",
              "      <td>0.414073</td>\n",
              "      <td>2.156969</td>\n",
              "      <td>38.200593</td>\n",
              "      <td>1.456869</td>\n",
              "      <td>1.564276</td>\n",
              "      <td>...</td>\n",
              "      <td>0.175809</td>\n",
              "      <td>1.211096</td>\n",
              "      <td>1.679296</td>\n",
              "      <td>0.974290</td>\n",
              "      <td>4.107641</td>\n",
              "      <td>2.499526</td>\n",
              "      <td>0.874154</td>\n",
              "      <td>8.953120</td>\n",
              "      <td>0.016238</td>\n",
              "      <td>1.006240</td>\n",
              "    </tr>\n",
              "    <tr>\n",
              "      <th>1</th>\n",
              "      <td>4.480811</td>\n",
              "      <td>3.108463</td>\n",
              "      <td>0.021961</td>\n",
              "      <td>0.000591</td>\n",
              "      <td>0.058562</td>\n",
              "      <td>0.003137</td>\n",
              "      <td>0.641046</td>\n",
              "      <td>34.507257</td>\n",
              "      <td>1.181512</td>\n",
              "      <td>2.142222</td>\n",
              "      <td>...</td>\n",
              "      <td>0.003060</td>\n",
              "      <td>0.162876</td>\n",
              "      <td>0.171503</td>\n",
              "      <td>0.739346</td>\n",
              "      <td>3.495939</td>\n",
              "      <td>2.659346</td>\n",
              "      <td>0.149804</td>\n",
              "      <td>7.975511</td>\n",
              "      <td>0.106405</td>\n",
              "      <td>0.004937</td>\n",
              "    </tr>\n",
              "  </tbody>\n",
              "</table>\n",
              "<p>2 rows × 41 columns</p>\n",
              "</div>\n",
              "      <button class=\"colab-df-convert\" onclick=\"convertToInteractive('df-0a5e80b3-b3a7-49b1-b158-cad31887e11a')\"\n",
              "              title=\"Convert this dataframe to an interactive table.\"\n",
              "              style=\"display:none;\">\n",
              "        \n",
              "  <svg xmlns=\"http://www.w3.org/2000/svg\" height=\"24px\"viewBox=\"0 0 24 24\"\n",
              "       width=\"24px\">\n",
              "    <path d=\"M0 0h24v24H0V0z\" fill=\"none\"/>\n",
              "    <path d=\"M18.56 5.44l.94 2.06.94-2.06 2.06-.94-2.06-.94-.94-2.06-.94 2.06-2.06.94zm-11 1L8.5 8.5l.94-2.06 2.06-.94-2.06-.94L8.5 2.5l-.94 2.06-2.06.94zm10 10l.94 2.06.94-2.06 2.06-.94-2.06-.94-.94-2.06-.94 2.06-2.06.94z\"/><path d=\"M17.41 7.96l-1.37-1.37c-.4-.4-.92-.59-1.43-.59-.52 0-1.04.2-1.43.59L10.3 9.45l-7.72 7.72c-.78.78-.78 2.05 0 2.83L4 21.41c.39.39.9.59 1.41.59.51 0 1.02-.2 1.41-.59l7.78-7.78 2.81-2.81c.8-.78.8-2.07 0-2.86zM5.41 20L4 18.59l7.72-7.72 1.47 1.35L5.41 20z\"/>\n",
              "  </svg>\n",
              "      </button>\n",
              "      \n",
              "  <style>\n",
              "    .colab-df-container {\n",
              "      display:flex;\n",
              "      flex-wrap:wrap;\n",
              "      gap: 12px;\n",
              "    }\n",
              "\n",
              "    .colab-df-convert {\n",
              "      background-color: #E8F0FE;\n",
              "      border: none;\n",
              "      border-radius: 50%;\n",
              "      cursor: pointer;\n",
              "      display: none;\n",
              "      fill: #1967D2;\n",
              "      height: 32px;\n",
              "      padding: 0 0 0 0;\n",
              "      width: 32px;\n",
              "    }\n",
              "\n",
              "    .colab-df-convert:hover {\n",
              "      background-color: #E2EBFA;\n",
              "      box-shadow: 0px 1px 2px rgba(60, 64, 67, 0.3), 0px 1px 3px 1px rgba(60, 64, 67, 0.15);\n",
              "      fill: #174EA6;\n",
              "    }\n",
              "\n",
              "    [theme=dark] .colab-df-convert {\n",
              "      background-color: #3B4455;\n",
              "      fill: #D2E3FC;\n",
              "    }\n",
              "\n",
              "    [theme=dark] .colab-df-convert:hover {\n",
              "      background-color: #434B5C;\n",
              "      box-shadow: 0px 1px 3px 1px rgba(0, 0, 0, 0.15);\n",
              "      filter: drop-shadow(0px 1px 2px rgba(0, 0, 0, 0.3));\n",
              "      fill: #FFFFFF;\n",
              "    }\n",
              "  </style>\n",
              "\n",
              "      <script>\n",
              "        const buttonEl =\n",
              "          document.querySelector('#df-0a5e80b3-b3a7-49b1-b158-cad31887e11a button.colab-df-convert');\n",
              "        buttonEl.style.display =\n",
              "          google.colab.kernel.accessAllowed ? 'block' : 'none';\n",
              "\n",
              "        async function convertToInteractive(key) {\n",
              "          const element = document.querySelector('#df-0a5e80b3-b3a7-49b1-b158-cad31887e11a');\n",
              "          const dataTable =\n",
              "            await google.colab.kernel.invokeFunction('convertToInteractive',\n",
              "                                                     [key], {});\n",
              "          if (!dataTable) return;\n",
              "\n",
              "          const docLinkHtml = 'Like what you see? Visit the ' +\n",
              "            '<a target=\"_blank\" href=https://colab.research.google.com/notebooks/data_table.ipynb>data table notebook</a>'\n",
              "            + ' to learn more about interactive tables.';\n",
              "          element.innerHTML = '';\n",
              "          dataTable['output_type'] = 'display_data';\n",
              "          await google.colab.output.renderOutput(dataTable, element);\n",
              "          const docLink = document.createElement('div');\n",
              "          docLink.innerHTML = docLinkHtml;\n",
              "          element.appendChild(docLink);\n",
              "        }\n",
              "      </script>\n",
              "    </div>\n",
              "  </div>\n",
              "  "
            ]
          },
          "metadata": {},
          "execution_count": 277
        }
      ],
      "source": [
        "biodeg.groupby('Biodegradable').mean()  #41 variables"
      ]
    },
    {
      "cell_type": "markdown",
      "metadata": {
        "id": "eo3xe8K_blqN"
      },
      "source": [
        "Some variables seem to have very different values between the two \"Biodegradable\" classes. Those must be the most important for classification.\n",
        "There are some binary, ordinal and continous variables."
      ]
    },
    {
      "cell_type": "code",
      "execution_count": null,
      "metadata": {
        "colab": {
          "base_uri": "https://localhost:8080/",
          "height": 608
        },
        "id": "Qow8PXA2blqN",
        "outputId": "73fd4b15-d8ae-45f3-ecff-0a825f52b3b6"
      },
      "outputs": [
        {
          "output_type": "display_data",
          "data": {
            "text/plain": [
              "<Figure size 1080x720 with 42 Axes>"
            ],
            "image/png": "[encoded data removed]"
          },
          "metadata": {
            "needs_background": "light"
          }
        }
      ],
      "source": [
        "biodeg.hist(bins=50, figsize=(15,10))\n",
        "plt.show()"
      ]
    },
    {
      "cell_type": "markdown",
      "metadata": {
        "id": "FrA4XbLQblqO"
      },
      "source": [
        "#### Variables correlation"
      ]
    },
    {
      "cell_type": "markdown",
      "source": [
        "Target variable Biodegradable is a binary variable, neither Spearman's or Pearson's correlation coefficient will give proper info.\\\n",
        "Binary logistic regression should be applied (see latter)."
      ],
      "metadata": {
        "id": "OBGKAjOTpv3g"
      }
    },
    {
      "cell_type": "code",
      "execution_count": null,
      "metadata": {
        "id": "y80UCm69blqP"
      },
      "outputs": [],
      "source": [
        "#corr_matrix = biodeg.corr(method=\"pearson\")  #spearman\n",
        "#print(\"Correlation with'Biodegradable'(41 variables):\")\n",
        "#print(corr_matrix[\"Biodegradable\"].sort_values(ascending=False))"
      ]
    },
    {
      "cell_type": "code",
      "execution_count": null,
      "metadata": {
        "id": "Zd8Y89sqblqQ"
      },
      "outputs": [],
      "source": [
        "#sns.pairplot(biodeg_2)"
      ]
    },
    {
      "cell_type": "markdown",
      "metadata": {
        "id": "AhdOmL0pblqQ"
      },
      "source": [
        "#### Missing Values"
      ]
    },
    {
      "cell_type": "code",
      "source": [
        "\n",
        "print(\"As seguintes colunas contêm missing values:\")\n",
        "space=\" \"\n",
        "for i in biodeg:\n",
        "   soma = biodeg[i].isna().sum()\n",
        "   if soma > 0:\n",
        "     print(i,(7-len(i))*space,\"->\",biodeg[i].isna().sum())\n"
      ],
      "metadata": {
        "colab": {
          "base_uri": "https://localhost:8080/"
        },
        "id": "QYBp4cBMaOxX",
        "outputId": "396b849e-3831-4a20-baf3-7e3544fe2402"
      },
      "execution_count": null,
      "outputs": [
        {
          "output_type": "stream",
          "name": "stdout",
          "text": [
            "As seguintes colunas contêm missing values:\n",
            "F01      -> 515\n",
            "C        -> 767\n",
            "nCp      -> 671\n",
            "HyWi_B   -> 479\n",
            "F03_CO   -> 43\n",
            "Me       -> 448\n",
            "nCIR     -> 490\n",
            "SpMax_A  -> 674\n",
            "SdO      -> 211\n",
            "nCrt     -> 258\n",
            "SpMax_B  -> 1358\n",
            "Psi_i_A  -> 460\n",
            "nX       -> 682\n"
          ]
        }
      ]
    },
    {
      "cell_type": "markdown",
      "metadata": {
        "id": "vfEY5jIeblqR"
      },
      "source": [
        "We could do a pre-selection of variables less correlated to \"Biodegradable\", with more missing values, and less diferent between classes of the predict variable, but let us instead proceed with all data, since machine learning algorithms during feature selection sould be able to choose the best features."
      ]
    },
    {
      "cell_type": "code",
      "execution_count": null,
      "metadata": {
        "colab": {
          "base_uri": "https://localhost:8080/",
          "height": 235
        },
        "id": "3KEr1rpmblp5",
        "outputId": "33f3c42c-f551-4e73-af6c-4402f73fba1d"
      },
      "outputs": [
        {
          "output_type": "execute_result",
          "data": {
            "text/plain": [
              "   SpMax_L  J_Dz(e)  nHM  F01  F04  NssssC  nCb     C  nCp   nO  ...  C_026  \\\n",
              "0    3.919   2.6909  0.0  0.0  0.0     0.0  0.0  31.4  2.0  0.0  ...    0.0   \n",
              "1    4.170   2.1144  0.0  0.0  0.0     0.0  0.0  30.8  1.0  1.0  ...    0.0   \n",
              "2    3.932   3.2512  0.0  0.0  0.0     0.0  0.0  26.7  2.0  4.0  ...    0.0   \n",
              "3    3.000   2.7098  0.0  0.0  0.0     0.0  0.0  20.0  NaN  2.0  ...    0.0   \n",
              "4    4.236   3.3944  0.0  0.0  0.0     0.0  0.0  29.4  2.0  4.0  ...    0.0   \n",
              "\n",
              "   F02_CN  nHDon  SpMax_B  Psi_i_A   nN  SM6_B  nArCOOR   nX  Biodegradable  \n",
              "0     0.0    0.0    2.949    1.591  0.0  7.253      0.0  0.0             RB  \n",
              "1     0.0    0.0    3.315    1.967  0.0  7.257      0.0  0.0             RB  \n",
              "2     0.0    1.0      NaN    2.417  0.0  7.601      0.0  0.0             RB  \n",
              "3     0.0    1.0      NaN    5.000  0.0  6.690      0.0  0.0             RB  \n",
              "4     0.0    0.0    3.351    2.405  0.0  8.003      0.0  NaN             RB  \n",
              "\n",
              "[5 rows x 42 columns]"
            ],
            "text/html": [
              "\n",
              "  <div id=\"df-04bd7cd3-909a-4124-99bd-6eac07682e8d\">\n",
              "    <div class=\"colab-df-container\">\n",
              "      <div>\n",
              "<style scoped>\n",
              "    .dataframe tbody tr th:only-of-type {\n",
              "        vertical-align: middle;\n",
              "    }\n",
              "\n",
              "    .dataframe tbody tr th {\n",
              "        vertical-align: top;\n",
              "    }\n",
              "\n",
              "    .dataframe thead th {\n",
              "        text-align: right;\n",
              "    }\n",
              "</style>\n",
              "<table border=\"1\" class=\"dataframe\">\n",
              "  <thead>\n",
              "    <tr style=\"text-align: right;\">\n",
              "      <th></th>\n",
              "      <th>SpMax_L</th>\n",
              "      <th>J_Dz(e)</th>\n",
              "      <th>nHM</th>\n",
              "      <th>F01</th>\n",
              "      <th>F04</th>\n",
              "      <th>NssssC</th>\n",
              "      <th>nCb</th>\n",
              "      <th>C</th>\n",
              "      <th>nCp</th>\n",
              "      <th>nO</th>\n",
              "      <th>...</th>\n",
              "      <th>C_026</th>\n",
              "      <th>F02_CN</th>\n",
              "      <th>nHDon</th>\n",
              "      <th>SpMax_B</th>\n",
              "      <th>Psi_i_A</th>\n",
              "      <th>nN</th>\n",
              "      <th>SM6_B</th>\n",
              "      <th>nArCOOR</th>\n",
              "      <th>nX</th>\n",
              "      <th>Biodegradable</th>\n",
              "    </tr>\n",
              "  </thead>\n",
              "  <tbody>\n",
              "    <tr>\n",
              "      <th>0</th>\n",
              "      <td>3.919</td>\n",
              "      <td>2.6909</td>\n",
              "      <td>0.0</td>\n",
              "      <td>0.0</td>\n",
              "      <td>0.0</td>\n",
              "      <td>0.0</td>\n",
              "      <td>0.0</td>\n",
              "      <td>31.4</td>\n",
              "      <td>2.0</td>\n",
              "      <td>0.0</td>\n",
              "      <td>...</td>\n",
              "      <td>0.0</td>\n",
              "      <td>0.0</td>\n",
              "      <td>0.0</td>\n",
              "      <td>2.949</td>\n",
              "      <td>1.591</td>\n",
              "      <td>0.0</td>\n",
              "      <td>7.253</td>\n",
              "      <td>0.0</td>\n",
              "      <td>0.0</td>\n",
              "      <td>RB</td>\n",
              "    </tr>\n",
              "    <tr>\n",
              "      <th>1</th>\n",
              "      <td>4.170</td>\n",
              "      <td>2.1144</td>\n",
              "      <td>0.0</td>\n",
              "      <td>0.0</td>\n",
              "      <td>0.0</td>\n",
              "      <td>0.0</td>\n",
              "      <td>0.0</td>\n",
              "      <td>30.8</td>\n",
              "      <td>1.0</td>\n",
              "      <td>1.0</td>\n",
              "      <td>...</td>\n",
              "      <td>0.0</td>\n",
              "      <td>0.0</td>\n",
              "      <td>0.0</td>\n",
              "      <td>3.315</td>\n",
              "      <td>1.967</td>\n",
              "      <td>0.0</td>\n",
              "      <td>7.257</td>\n",
              "      <td>0.0</td>\n",
              "      <td>0.0</td>\n",
              "      <td>RB</td>\n",
              "    </tr>\n",
              "    <tr>\n",
              "      <th>2</th>\n",
              "      <td>3.932</td>\n",
              "      <td>3.2512</td>\n",
              "      <td>0.0</td>\n",
              "      <td>0.0</td>\n",
              "      <td>0.0</td>\n",
              "      <td>0.0</td>\n",
              "      <td>0.0</td>\n",
              "      <td>26.7</td>\n",
              "      <td>2.0</td>\n",
              "      <td>4.0</td>\n",
              "      <td>...</td>\n",
              "      <td>0.0</td>\n",
              "      <td>0.0</td>\n",
              "      <td>1.0</td>\n",
              "      <td>NaN</td>\n",
              "      <td>2.417</td>\n",
              "      <td>0.0</td>\n",
              "      <td>7.601</td>\n",
              "      <td>0.0</td>\n",
              "      <td>0.0</td>\n",
              "      <td>RB</td>\n",
              "    </tr>\n",
              "    <tr>\n",
              "      <th>3</th>\n",
              "      <td>3.000</td>\n",
              "      <td>2.7098</td>\n",
              "      <td>0.0</td>\n",
              "      <td>0.0</td>\n",
              "      <td>0.0</td>\n",
              "      <td>0.0</td>\n",
              "      <td>0.0</td>\n",
              "      <td>20.0</td>\n",
              "      <td>NaN</td>\n",
              "      <td>2.0</td>\n",
              "      <td>...</td>\n",
              "      <td>0.0</td>\n",
              "      <td>0.0</td>\n",
              "      <td>1.0</td>\n",
              "      <td>NaN</td>\n",
              "      <td>5.000</td>\n",
              "      <td>0.0</td>\n",
              "      <td>6.690</td>\n",
              "      <td>0.0</td>\n",
              "      <td>0.0</td>\n",
              "      <td>RB</td>\n",
              "    </tr>\n",
              "    <tr>\n",
              "      <th>4</th>\n",
              "      <td>4.236</td>\n",
              "      <td>3.3944</td>\n",
              "      <td>0.0</td>\n",
              "      <td>0.0</td>\n",
              "      <td>0.0</td>\n",
              "      <td>0.0</td>\n",
              "      <td>0.0</td>\n",
              "      <td>29.4</td>\n",
              "      <td>2.0</td>\n",
              "      <td>4.0</td>\n",
              "      <td>...</td>\n",
              "      <td>0.0</td>\n",
              "      <td>0.0</td>\n",
              "      <td>0.0</td>\n",
              "      <td>3.351</td>\n",
              "      <td>2.405</td>\n",
              "      <td>0.0</td>\n",
              "      <td>8.003</td>\n",
              "      <td>0.0</td>\n",
              "      <td>NaN</td>\n",
              "      <td>RB</td>\n",
              "    </tr>\n",
              "  </tbody>\n",
              "</table>\n",
              "<p>5 rows × 42 columns</p>\n",
              "</div>\n",
              "      <button class=\"colab-df-convert\" onclick=\"convertToInteractive('df-04bd7cd3-909a-4124-99bd-6eac07682e8d')\"\n",
              "              title=\"Convert this dataframe to an interactive table.\"\n",
              "              style=\"display:none;\">\n",
              "        \n",
              "  <svg xmlns=\"http://www.w3.org/2000/svg\" height=\"24px\"viewBox=\"0 0 24 24\"\n",
              "       width=\"24px\">\n",
              "    <path d=\"M0 0h24v24H0V0z\" fill=\"none\"/>\n",
              "    <path d=\"M18.56 5.44l.94 2.06.94-2.06 2.06-.94-2.06-.94-.94-2.06-.94 2.06-2.06.94zm-11 1L8.5 8.5l.94-2.06 2.06-.94-2.06-.94L8.5 2.5l-.94 2.06-2.06.94zm10 10l.94 2.06.94-2.06 2.06-.94-2.06-.94-.94-2.06-.94 2.06-2.06.94z\"/><path d=\"M17.41 7.96l-1.37-1.37c-.4-.4-.92-.59-1.43-.59-.52 0-1.04.2-1.43.59L10.3 9.45l-7.72 7.72c-.78.78-.78 2.05 0 2.83L4 21.41c.39.39.9.59 1.41.59.51 0 1.02-.2 1.41-.59l7.78-7.78 2.81-2.81c.8-.78.8-2.07 0-2.86zM5.41 20L4 18.59l7.72-7.72 1.47 1.35L5.41 20z\"/>\n",
              "  </svg>\n",
              "      </button>\n",
              "      \n",
              "  <style>\n",
              "    .colab-df-container {\n",
              "      display:flex;\n",
              "      flex-wrap:wrap;\n",
              "      gap: 12px;\n",
              "    }\n",
              "\n",
              "    .colab-df-convert {\n",
              "      background-color: #E8F0FE;\n",
              "      border: none;\n",
              "      border-radius: 50%;\n",
              "      cursor: pointer;\n",
              "      display: none;\n",
              "      fill: #1967D2;\n",
              "      height: 32px;\n",
              "      padding: 0 0 0 0;\n",
              "      width: 32px;\n",
              "    }\n",
              "\n",
              "    .colab-df-convert:hover {\n",
              "      background-color: #E2EBFA;\n",
              "      box-shadow: 0px 1px 2px rgba(60, 64, 67, 0.3), 0px 1px 3px 1px rgba(60, 64, 67, 0.15);\n",
              "      fill: #174EA6;\n",
              "    }\n",
              "\n",
              "    [theme=dark] .colab-df-convert {\n",
              "      background-color: #3B4455;\n",
              "      fill: #D2E3FC;\n",
              "    }\n",
              "\n",
              "    [theme=dark] .colab-df-convert:hover {\n",
              "      background-color: #434B5C;\n",
              "      box-shadow: 0px 1px 3px 1px rgba(0, 0, 0, 0.15);\n",
              "      filter: drop-shadow(0px 1px 2px rgba(0, 0, 0, 0.3));\n",
              "      fill: #FFFFFF;\n",
              "    }\n",
              "  </style>\n",
              "\n",
              "      <script>\n",
              "        const buttonEl =\n",
              "          document.querySelector('#df-04bd7cd3-909a-4124-99bd-6eac07682e8d button.colab-df-convert');\n",
              "        buttonEl.style.display =\n",
              "          google.colab.kernel.accessAllowed ? 'block' : 'none';\n",
              "\n",
              "        async function convertToInteractive(key) {\n",
              "          const element = document.querySelector('#df-04bd7cd3-909a-4124-99bd-6eac07682e8d');\n",
              "          const dataTable =\n",
              "            await google.colab.kernel.invokeFunction('convertToInteractive',\n",
              "                                                     [key], {});\n",
              "          if (!dataTable) return;\n",
              "\n",
              "          const docLinkHtml = 'Like what you see? Visit the ' +\n",
              "            '<a target=\"_blank\" href=https://colab.research.google.com/notebooks/data_table.ipynb>data table notebook</a>'\n",
              "            + ' to learn more about interactive tables.';\n",
              "          element.innerHTML = '';\n",
              "          dataTable['output_type'] = 'display_data';\n",
              "          await google.colab.output.renderOutput(dataTable, element);\n",
              "          const docLink = document.createElement('div');\n",
              "          docLink.innerHTML = docLinkHtml;\n",
              "          element.appendChild(docLink);\n",
              "        }\n",
              "      </script>\n",
              "    </div>\n",
              "  </div>\n",
              "  "
            ]
          },
          "metadata": {},
          "execution_count": 3
        }
      ],
      "source": [
        "biodeg=pd.read_csv(\"biodegradable_a.csv\")\n",
        "#biodeg=pd.read_csv(\"biodegradable_a.csv\", na_filter=False)\n",
        "biodeg.head()"
      ]
    },
    {
      "cell_type": "markdown",
      "metadata": {
        "id": "87I1o-p1blqR"
      },
      "source": [
        "## Processing Data"
      ]
    },
    {
      "cell_type": "markdown",
      "metadata": {
        "id": "7uizwWriblqS"
      },
      "source": [
        "### Defining the variables"
      ]
    },
    {
      "cell_type": "code",
      "execution_count": null,
      "metadata": {
        "id": "d5uQLOP0blqS"
      },
      "outputs": [],
      "source": [
        "from sklearn.preprocessing import MinMaxScaler, StandardScaler, Normalizer, PowerTransformer, MaxAbsScaler\n",
        "from sklearn.impute import SimpleImputer, KNNImputer\n",
        "from sklearn.feature_selection import RFE, SelectFromModel, SequentialFeatureSelector\n",
        "from sklearn.linear_model import LogisticRegression\n",
        "from sklearn.ensemble import RandomForestClassifier"
      ]
    },
    {
      "cell_type": "code",
      "execution_count": null,
      "metadata": {
        "id": "CyHiZmksblqS"
      },
      "outputs": [],
      "source": [
        "X = biodeg.drop(columns=[\"Biodegradable\"])\n",
        "y = biodeg[\"Biodegradable\"]"
      ]
    },
    {
      "cell_type": "markdown",
      "metadata": {
        "id": "XQZPqTqOblqS"
      },
      "source": [
        "### Scaling (1.2)"
      ]
    },
    {
      "cell_type": "markdown",
      "metadata": {
        "id": "ew2OZTlUblqT"
      },
      "source": [
        "Not all algorithms need data to be scaled.\\\n",
        "Moreover we have binary and ordinal categoric data, together with continuous data.\\\n",
        "This makes it dificult to choose a proper scaler and maybe each variable should be treated independently.\n",
        "\n",
        "However, we though the best approach would be to use MinMax scaler (0-1) on all the data. "
      ]
    },
    {
      "cell_type": "code",
      "execution_count": null,
      "metadata": {
        "id": "7hLskpxxblqT"
      },
      "outputs": [],
      "source": [
        "scaler   = MinMaxScaler() #StandardScaler() #PowerTransformer() #MinMaxScaler()   \n",
        "scaler.fit(X)\n",
        "X = scaler.transform(X)"
      ]
    },
    {
      "cell_type": "markdown",
      "metadata": {
        "id": "dcFtDaPhblqT"
      },
      "source": [
        "### Imputing for Missing Values (1.2)"
      ]
    },
    {
      "cell_type": "markdown",
      "metadata": {
        "id": "aiZHUe6kblqU"
      },
      "source": [
        "Again, we have binary/ordinal data, and to impute missing values we should not use the \"mean\" or \"median\", but the \"mode\".\\\n",
        "Thus, we decided to use the KNN method that uses the mean value to estimate the value for continuous data and the mode value to replace the missing values when the data is categorical."
      ]
    },
    {
      "cell_type": "code",
      "execution_count": null,
      "metadata": {
        "id": "tueeUg29blqU"
      },
      "outputs": [],
      "source": [
        "imp = KNNImputer(n_neighbors=2, weights=\"uniform\") \n",
        "imp.fit(X)\n",
        "X = imp.transform(X)"
      ]
    },
    {
      "cell_type": "markdown",
      "metadata": {
        "id": "iijER4dDblqU"
      },
      "source": [
        "## Feature Selection (2)"
      ]
    },
    {
      "cell_type": "markdown",
      "source": [
        "### Imports"
      ],
      "metadata": {
        "id": "11329KaysZnL"
      }
    },
    {
      "cell_type": "code",
      "execution_count": null,
      "metadata": {
        "id": "4aFuEjBiblqU"
      },
      "outputs": [],
      "source": [
        "from sklearn.model_selection import train_test_split, KFold\n",
        "from sklearn import tree\n",
        "from sklearn.tree import DecisionTreeClassifier\n",
        "from sklearn.neighbors import KNeighborsClassifier\n",
        "from sklearn.svm import SVC\n",
        "from sklearn.ensemble import RandomForestClassifier\n",
        "from sklearn.linear_model import LogisticRegression\n",
        "from sklearn.metrics import precision_score, recall_score, f1_score, matthews_corrcoef, confusion_matrix, accuracy_score\n",
        "from sklearn.metrics import explained_variance_score, mean_squared_error"
      ]
    },
    {
      "cell_type": "markdown",
      "metadata": {
        "id": "WKEq0rD0blqV"
      },
      "source": [
        "### Splitting Data into Training and Test Sets (2.1)"
      ]
    },
    {
      "cell_type": "code",
      "execution_count": null,
      "metadata": {
        "colab": {
          "base_uri": "https://localhost:8080/"
        },
        "id": "8rB0heRkblqV",
        "outputId": "2b05a93c-5fb2-4706-caf7-92603b059de2"
      },
      "outputs": [
        {
          "output_type": "execute_result",
          "data": {
            "text/plain": [
              "((3423, 41), (1141, 41), (3423,), (1141,))"
            ]
          },
          "metadata": {},
          "execution_count": 12
        }
      ],
      "source": [
        "X_train, X_test, y_train, y_test = train_test_split(X, y, test_size=0.25, random_state=123)\n",
        "X_train.shape, X_test.shape, y_train.shape, y_test.shape"
      ]
    },
    {
      "cell_type": "markdown",
      "metadata": {
        "id": "1NPZALdhblqV"
      },
      "source": [
        "### Feature Selection Methods"
      ]
    },
    {
      "cell_type": "markdown",
      "metadata": {
        "id": "_IfS0rAmblqW"
      },
      "source": [
        "#### Using Random Forest for Feature Importance (2.2)"
      ]
    },
    {
      "cell_type": "code",
      "execution_count": null,
      "metadata": {
        "colab": {
          "base_uri": "https://localhost:8080/"
        },
        "id": "jB_Bc33xblqW",
        "outputId": "80ac300f-b076-46d8-f720-4d15e70ba6a5"
      },
      "outputs": [
        {
          "output_type": "stream",
          "name": "stdout",
          "text": [
            "Importances:  [0.04509986 0.02179418 0.08472687 0.00206664 0.05923447 0.04385037\n",
            " 0.05091058 0.02258461 0.01669769 0.01158381 0.04690068 0.02105343\n",
            " 0.02071162 0.01896096 0.02412871 0.0109505  0.02296535 0.02131618\n",
            " 0.00050739 0.00581712 0.0003012  0.04368941 0.02571707 0.00083078\n",
            " 0.00952675 0.00052897 0.03264181 0.01377775 0.00019944 0.01764275\n",
            " 0.0172189  0.01636798 0.0212968  0.04529275 0.00645654 0.06802738\n",
            " 0.02466761 0.01688892 0.03231025 0.00095482 0.05380106]\n",
            "Default threshold:  0.02439024390243903\n",
            "The features selected are columns:  [ 0  2  4  5  6 10 21 22 26 33 35 36 38 40]\n"
          ]
        }
      ],
      "source": [
        "N,M=X_train.shape\n",
        "rfc=RandomForestClassifier(n_estimators=500, max_depth=None, random_state=0) #(n_estimators=100, *, criterion='gini', max_depth=None, min_samples_split=2, min_samples_leaf=1, min_weight_fraction_leaf=0.0, max_features='sqrt', max_leaf_nodes=None, min_impurity_decrease=0.0, bootstrap=True, oob_score=False, n_jobs=None, random_state=None, verbose=0, warm_start=False, class_weight=None, ccp_alpha=0.0, max_samples=None)\n",
        "sel = SelectFromModel(estimator=rfc)\n",
        "sel.fit(X_train, y_train)\n",
        "\n",
        "print(\"Importances: \", sel.estimator_.feature_importances_)\n",
        "print(\"Default threshold: \", sel.threshold_)\n",
        "\n",
        "features=sel.get_support()\n",
        "Features_selected =np.arange(M)[features]\n",
        "print(\"The features selected are columns: \", Features_selected)\n",
        "\n",
        "rfX_train=sel.transform(X_train)\n",
        "rfX_test=sel.transform(X_test)"
      ]
    },
    {
      "cell_type": "code",
      "execution_count": null,
      "metadata": {
        "id": "SQbexca2blqW",
        "colab": {
          "base_uri": "https://localhost:8080/",
          "height": 143
        },
        "outputId": "b1d47b6e-bf29-4f70-a20e-075b97e6b791"
      },
      "outputs": [
        {
          "output_type": "execute_result",
          "data": {
            "text/plain": [
              "                SpMax_L       nHM       F04    NssssC       nCb       F03  \\\n",
              "Biodegradable                                                               \n",
              "0              0.651876  0.083559  0.036987  0.031852  0.119832  0.044163   \n",
              "1              0.551782  0.001830  0.001627  0.000241  0.035614  0.002591   \n",
              "\n",
              "               SpPosA_B      nCIR   SpMax_A    F02_CN   SpMax_B   Psi_i_A  \\\n",
              "Biodegradable                                                               \n",
              "0              0.516092  0.012054  0.685652  0.093294  0.225208  0.238168   \n",
              "1              0.418598  0.003398  0.587832  0.009528  0.150203  0.273707   \n",
              "\n",
              "                  SM6_B        nX  \n",
              "Biodegradable                      \n",
              "0              0.412565  0.037513  \n",
              "1              0.312635  0.000189  "
            ],
            "text/html": [
              "\n",
              "  <div id=\"df-d8414dff-e946-4383-82b5-81c70f0f9c4e\">\n",
              "    <div class=\"colab-df-container\">\n",
              "      <div>\n",
              "<style scoped>\n",
              "    .dataframe tbody tr th:only-of-type {\n",
              "        vertical-align: middle;\n",
              "    }\n",
              "\n",
              "    .dataframe tbody tr th {\n",
              "        vertical-align: top;\n",
              "    }\n",
              "\n",
              "    .dataframe thead th {\n",
              "        text-align: right;\n",
              "    }\n",
              "</style>\n",
              "<table border=\"1\" class=\"dataframe\">\n",
              "  <thead>\n",
              "    <tr style=\"text-align: right;\">\n",
              "      <th></th>\n",
              "      <th>SpMax_L</th>\n",
              "      <th>nHM</th>\n",
              "      <th>F04</th>\n",
              "      <th>NssssC</th>\n",
              "      <th>nCb</th>\n",
              "      <th>F03</th>\n",
              "      <th>SpPosA_B</th>\n",
              "      <th>nCIR</th>\n",
              "      <th>SpMax_A</th>\n",
              "      <th>F02_CN</th>\n",
              "      <th>SpMax_B</th>\n",
              "      <th>Psi_i_A</th>\n",
              "      <th>SM6_B</th>\n",
              "      <th>nX</th>\n",
              "    </tr>\n",
              "    <tr>\n",
              "      <th>Biodegradable</th>\n",
              "      <th></th>\n",
              "      <th></th>\n",
              "      <th></th>\n",
              "      <th></th>\n",
              "      <th></th>\n",
              "      <th></th>\n",
              "      <th></th>\n",
              "      <th></th>\n",
              "      <th></th>\n",
              "      <th></th>\n",
              "      <th></th>\n",
              "      <th></th>\n",
              "      <th></th>\n",
              "      <th></th>\n",
              "    </tr>\n",
              "  </thead>\n",
              "  <tbody>\n",
              "    <tr>\n",
              "      <th>0</th>\n",
              "      <td>0.651876</td>\n",
              "      <td>0.083559</td>\n",
              "      <td>0.036987</td>\n",
              "      <td>0.031852</td>\n",
              "      <td>0.119832</td>\n",
              "      <td>0.044163</td>\n",
              "      <td>0.516092</td>\n",
              "      <td>0.012054</td>\n",
              "      <td>0.685652</td>\n",
              "      <td>0.093294</td>\n",
              "      <td>0.225208</td>\n",
              "      <td>0.238168</td>\n",
              "      <td>0.412565</td>\n",
              "      <td>0.037513</td>\n",
              "    </tr>\n",
              "    <tr>\n",
              "      <th>1</th>\n",
              "      <td>0.551782</td>\n",
              "      <td>0.001830</td>\n",
              "      <td>0.001627</td>\n",
              "      <td>0.000241</td>\n",
              "      <td>0.035614</td>\n",
              "      <td>0.002591</td>\n",
              "      <td>0.418598</td>\n",
              "      <td>0.003398</td>\n",
              "      <td>0.587832</td>\n",
              "      <td>0.009528</td>\n",
              "      <td>0.150203</td>\n",
              "      <td>0.273707</td>\n",
              "      <td>0.312635</td>\n",
              "      <td>0.000189</td>\n",
              "    </tr>\n",
              "  </tbody>\n",
              "</table>\n",
              "</div>\n",
              "      <button class=\"colab-df-convert\" onclick=\"convertToInteractive('df-d8414dff-e946-4383-82b5-81c70f0f9c4e')\"\n",
              "              title=\"Convert this dataframe to an interactive table.\"\n",
              "              style=\"display:none;\">\n",
              "        \n",
              "  <svg xmlns=\"http://www.w3.org/2000/svg\" height=\"24px\"viewBox=\"0 0 24 24\"\n",
              "       width=\"24px\">\n",
              "    <path d=\"M0 0h24v24H0V0z\" fill=\"none\"/>\n",
              "    <path d=\"M18.56 5.44l.94 2.06.94-2.06 2.06-.94-2.06-.94-.94-2.06-.94 2.06-2.06.94zm-11 1L8.5 8.5l.94-2.06 2.06-.94-2.06-.94L8.5 2.5l-.94 2.06-2.06.94zm10 10l.94 2.06.94-2.06 2.06-.94-2.06-.94-.94-2.06-.94 2.06-2.06.94z\"/><path d=\"M17.41 7.96l-1.37-1.37c-.4-.4-.92-.59-1.43-.59-.52 0-1.04.2-1.43.59L10.3 9.45l-7.72 7.72c-.78.78-.78 2.05 0 2.83L4 21.41c.39.39.9.59 1.41.59.51 0 1.02-.2 1.41-.59l7.78-7.78 2.81-2.81c.8-.78.8-2.07 0-2.86zM5.41 20L4 18.59l7.72-7.72 1.47 1.35L5.41 20z\"/>\n",
              "  </svg>\n",
              "      </button>\n",
              "      \n",
              "  <style>\n",
              "    .colab-df-container {\n",
              "      display:flex;\n",
              "      flex-wrap:wrap;\n",
              "      gap: 12px;\n",
              "    }\n",
              "\n",
              "    .colab-df-convert {\n",
              "      background-color: #E8F0FE;\n",
              "      border: none;\n",
              "      border-radius: 50%;\n",
              "      cursor: pointer;\n",
              "      display: none;\n",
              "      fill: #1967D2;\n",
              "      height: 32px;\n",
              "      padding: 0 0 0 0;\n",
              "      width: 32px;\n",
              "    }\n",
              "\n",
              "    .colab-df-convert:hover {\n",
              "      background-color: #E2EBFA;\n",
              "      box-shadow: 0px 1px 2px rgba(60, 64, 67, 0.3), 0px 1px 3px 1px rgba(60, 64, 67, 0.15);\n",
              "      fill: #174EA6;\n",
              "    }\n",
              "\n",
              "    [theme=dark] .colab-df-convert {\n",
              "      background-color: #3B4455;\n",
              "      fill: #D2E3FC;\n",
              "    }\n",
              "\n",
              "    [theme=dark] .colab-df-convert:hover {\n",
              "      background-color: #434B5C;\n",
              "      box-shadow: 0px 1px 3px 1px rgba(0, 0, 0, 0.15);\n",
              "      filter: drop-shadow(0px 1px 2px rgba(0, 0, 0, 0.3));\n",
              "      fill: #FFFFFF;\n",
              "    }\n",
              "  </style>\n",
              "\n",
              "      <script>\n",
              "        const buttonEl =\n",
              "          document.querySelector('#df-d8414dff-e946-4383-82b5-81c70f0f9c4e button.colab-df-convert');\n",
              "        buttonEl.style.display =\n",
              "          google.colab.kernel.accessAllowed ? 'block' : 'none';\n",
              "\n",
              "        async function convertToInteractive(key) {\n",
              "          const element = document.querySelector('#df-d8414dff-e946-4383-82b5-81c70f0f9c4e');\n",
              "          const dataTable =\n",
              "            await google.colab.kernel.invokeFunction('convertToInteractive',\n",
              "                                                     [key], {});\n",
              "          if (!dataTable) return;\n",
              "\n",
              "          const docLinkHtml = 'Like what you see? Visit the ' +\n",
              "            '<a target=\"_blank\" href=https://colab.research.google.com/notebooks/data_table.ipynb>data table notebook</a>'\n",
              "            + ' to learn more about interactive tables.';\n",
              "          element.innerHTML = '';\n",
              "          dataTable['output_type'] = 'display_data';\n",
              "          await google.colab.output.renderOutput(dataTable, element);\n",
              "          const docLink = document.createElement('div');\n",
              "          docLink.innerHTML = docLinkHtml;\n",
              "          element.appendChild(docLink);\n",
              "        }\n",
              "      </script>\n",
              "    </div>\n",
              "  </div>\n",
              "  "
            ]
          },
          "metadata": {},
          "execution_count": 15
        }
      ],
      "source": [
        "b = biodeg.drop(columns=[\"Biodegradable\"])\n",
        "SF=pd.DataFrame(X,columns=b.columns)\n",
        "SF[\"Biodegradable\"] = biodeg[\"Biodegradable\"].values\n",
        "bioSF=SF.iloc[:,[0,2,4,5,6,10,21,22,26,33,35,36,38,40,41]]\n",
        "#bioSF.groupby('Biodegradable').mean()"
      ]
    },
    {
      "cell_type": "markdown",
      "metadata": {
        "id": "zFtSJt9-blqX"
      },
      "source": [
        "#### Using Logistic Regression for Sequential Feature Selection (2.3)"
      ]
    },
    {
      "cell_type": "code",
      "execution_count": null,
      "metadata": {
        "colab": {
          "base_uri": "https://localhost:8080/"
        },
        "id": "Y3hUIY-XblqX",
        "outputId": "24409199-ee94-4706-cfb7-319724c9cc3b"
      },
      "outputs": [
        {
          "output_type": "stream",
          "name": "stdout",
          "text": [
            "The features selected are columns:  [ 2  5  6  8  9 19 21 26 31 32 33 35 37 39]\n"
          ]
        }
      ],
      "source": [
        "N,M=X_train.shape\n",
        "lgr=LogisticRegression(multi_class=\"ovr\", random_state=0)\n",
        "sfs = SequentialFeatureSelector(lgr, n_features_to_select=14)\n",
        "sfs.fit(X_train, y_train)\n",
        "\n",
        "features=sfs.get_support()\n",
        "Features_selected =np.arange(M)[features]\n",
        "print(\"The features selected are columns: \", Features_selected)\n",
        "\n",
        "lgX_train=sfs.transform(X_train)\n",
        "lgX_test=sfs.transform(X_test)"
      ]
    },
    {
      "cell_type": "code",
      "execution_count": null,
      "metadata": {
        "id": "1Frw_ma5blqY"
      },
      "outputs": [],
      "source": [
        "bioLG=SF.iloc[:,[2,5,6,8,9,19,21,26,31,32,33,35,37,39,41]]"
      ]
    },
    {
      "cell_type": "code",
      "execution_count": null,
      "metadata": {
        "id": "oOsLK6f6blqY"
      },
      "outputs": [],
      "source": [
        "#bioLG.groupby('Biodegradable').mean()"
      ]
    },
    {
      "cell_type": "markdown",
      "metadata": {
        "id": "Y_qEh5zxblqZ"
      },
      "source": [
        "### Which are the most importante features?"
      ]
    },
    {
      "cell_type": "markdown",
      "source": [
        "Feature importance given by Random forests tell us the most important features are SpMax_L, nHM, F04, NssssC, nCb, F03,\tSpPosA_B,\tnCIR,\tSpMax_A,\tF02_CN,\tSpMax_B,\tPsi_i_A,\tSM6_B, and\tnX (15 variables).\n",
        "\n",
        "However, logistic regression seem indicate nHM,\tNssssC,\tnCb,\tnCp,\tnO,\tnArNO2,\tSpPosA_B,\tSpMax_A,\tnCrt,\tC_026,\tF02_CN,\tSpMax_B,\tnN and\tnArCOOR. The ones in common are nHM, NssssC, nCb, SpPosA_B, SpMax_A, F02_CN and SpMax_B."
      ],
      "metadata": {
        "id": "H9aed0oK8tvJ"
      }
    },
    {
      "cell_type": "code",
      "source": [
        "bioMIX=SF.iloc[:,[2,5,6,21,26,33,35,41]]\n",
        "bioMIX.groupby('Biodegradable').mean()"
      ],
      "metadata": {
        "colab": {
          "base_uri": "https://localhost:8080/",
          "height": 143
        },
        "id": "K_ty933--iKo",
        "outputId": "779cb199-9ef4-4f0b-a140-3a40063bac9b"
      },
      "execution_count": null,
      "outputs": [
        {
          "output_type": "execute_result",
          "data": {
            "text/plain": [
              "                    nHM    NssssC       nCb  SpPosA_B   SpMax_A    F02_CN  \\\n",
              "Biodegradable                                                               \n",
              "0              0.083559  0.031852  0.119832  0.516092  0.685652  0.093294   \n",
              "1              0.001830  0.000241  0.035614  0.418598  0.587832  0.009528   \n",
              "\n",
              "                SpMax_B  \n",
              "Biodegradable            \n",
              "0              0.225208  \n",
              "1              0.150203  "
            ],
            "text/html": [
              "\n",
              "  <div id=\"df-e3263d9d-1774-4c60-bdd4-e7f98d7bc254\">\n",
              "    <div class=\"colab-df-container\">\n",
              "      <div>\n",
              "<style scoped>\n",
              "    .dataframe tbody tr th:only-of-type {\n",
              "        vertical-align: middle;\n",
              "    }\n",
              "\n",
              "    .dataframe tbody tr th {\n",
              "        vertical-align: top;\n",
              "    }\n",
              "\n",
              "    .dataframe thead th {\n",
              "        text-align: right;\n",
              "    }\n",
              "</style>\n",
              "<table border=\"1\" class=\"dataframe\">\n",
              "  <thead>\n",
              "    <tr style=\"text-align: right;\">\n",
              "      <th></th>\n",
              "      <th>nHM</th>\n",
              "      <th>NssssC</th>\n",
              "      <th>nCb</th>\n",
              "      <th>SpPosA_B</th>\n",
              "      <th>SpMax_A</th>\n",
              "      <th>F02_CN</th>\n",
              "      <th>SpMax_B</th>\n",
              "    </tr>\n",
              "    <tr>\n",
              "      <th>Biodegradable</th>\n",
              "      <th></th>\n",
              "      <th></th>\n",
              "      <th></th>\n",
              "      <th></th>\n",
              "      <th></th>\n",
              "      <th></th>\n",
              "      <th></th>\n",
              "    </tr>\n",
              "  </thead>\n",
              "  <tbody>\n",
              "    <tr>\n",
              "      <th>0</th>\n",
              "      <td>0.083559</td>\n",
              "      <td>0.031852</td>\n",
              "      <td>0.119832</td>\n",
              "      <td>0.516092</td>\n",
              "      <td>0.685652</td>\n",
              "      <td>0.093294</td>\n",
              "      <td>0.225208</td>\n",
              "    </tr>\n",
              "    <tr>\n",
              "      <th>1</th>\n",
              "      <td>0.001830</td>\n",
              "      <td>0.000241</td>\n",
              "      <td>0.035614</td>\n",
              "      <td>0.418598</td>\n",
              "      <td>0.587832</td>\n",
              "      <td>0.009528</td>\n",
              "      <td>0.150203</td>\n",
              "    </tr>\n",
              "  </tbody>\n",
              "</table>\n",
              "</div>\n",
              "      <button class=\"colab-df-convert\" onclick=\"convertToInteractive('df-e3263d9d-1774-4c60-bdd4-e7f98d7bc254')\"\n",
              "              title=\"Convert this dataframe to an interactive table.\"\n",
              "              style=\"display:none;\">\n",
              "        \n",
              "  <svg xmlns=\"http://www.w3.org/2000/svg\" height=\"24px\"viewBox=\"0 0 24 24\"\n",
              "       width=\"24px\">\n",
              "    <path d=\"M0 0h24v24H0V0z\" fill=\"none\"/>\n",
              "    <path d=\"M18.56 5.44l.94 2.06.94-2.06 2.06-.94-2.06-.94-.94-2.06-.94 2.06-2.06.94zm-11 1L8.5 8.5l.94-2.06 2.06-.94-2.06-.94L8.5 2.5l-.94 2.06-2.06.94zm10 10l.94 2.06.94-2.06 2.06-.94-2.06-.94-.94-2.06-.94 2.06-2.06.94z\"/><path d=\"M17.41 7.96l-1.37-1.37c-.4-.4-.92-.59-1.43-.59-.52 0-1.04.2-1.43.59L10.3 9.45l-7.72 7.72c-.78.78-.78 2.05 0 2.83L4 21.41c.39.39.9.59 1.41.59.51 0 1.02-.2 1.41-.59l7.78-7.78 2.81-2.81c.8-.78.8-2.07 0-2.86zM5.41 20L4 18.59l7.72-7.72 1.47 1.35L5.41 20z\"/>\n",
              "  </svg>\n",
              "      </button>\n",
              "      \n",
              "  <style>\n",
              "    .colab-df-container {\n",
              "      display:flex;\n",
              "      flex-wrap:wrap;\n",
              "      gap: 12px;\n",
              "    }\n",
              "\n",
              "    .colab-df-convert {\n",
              "      background-color: #E8F0FE;\n",
              "      border: none;\n",
              "      border-radius: 50%;\n",
              "      cursor: pointer;\n",
              "      display: none;\n",
              "      fill: #1967D2;\n",
              "      height: 32px;\n",
              "      padding: 0 0 0 0;\n",
              "      width: 32px;\n",
              "    }\n",
              "\n",
              "    .colab-df-convert:hover {\n",
              "      background-color: #E2EBFA;\n",
              "      box-shadow: 0px 1px 2px rgba(60, 64, 67, 0.3), 0px 1px 3px 1px rgba(60, 64, 67, 0.15);\n",
              "      fill: #174EA6;\n",
              "    }\n",
              "\n",
              "    [theme=dark] .colab-df-convert {\n",
              "      background-color: #3B4455;\n",
              "      fill: #D2E3FC;\n",
              "    }\n",
              "\n",
              "    [theme=dark] .colab-df-convert:hover {\n",
              "      background-color: #434B5C;\n",
              "      box-shadow: 0px 1px 3px 1px rgba(0, 0, 0, 0.15);\n",
              "      filter: drop-shadow(0px 1px 2px rgba(0, 0, 0, 0.3));\n",
              "      fill: #FFFFFF;\n",
              "    }\n",
              "  </style>\n",
              "\n",
              "      <script>\n",
              "        const buttonEl =\n",
              "          document.querySelector('#df-e3263d9d-1774-4c60-bdd4-e7f98d7bc254 button.colab-df-convert');\n",
              "        buttonEl.style.display =\n",
              "          google.colab.kernel.accessAllowed ? 'block' : 'none';\n",
              "\n",
              "        async function convertToInteractive(key) {\n",
              "          const element = document.querySelector('#df-e3263d9d-1774-4c60-bdd4-e7f98d7bc254');\n",
              "          const dataTable =\n",
              "            await google.colab.kernel.invokeFunction('convertToInteractive',\n",
              "                                                     [key], {});\n",
              "          if (!dataTable) return;\n",
              "\n",
              "          const docLinkHtml = 'Like what you see? Visit the ' +\n",
              "            '<a target=\"_blank\" href=https://colab.research.google.com/notebooks/data_table.ipynb>data table notebook</a>'\n",
              "            + ' to learn more about interactive tables.';\n",
              "          element.innerHTML = '';\n",
              "          dataTable['output_type'] = 'display_data';\n",
              "          await google.colab.output.renderOutput(dataTable, element);\n",
              "          const docLink = document.createElement('div');\n",
              "          docLink.innerHTML = docLinkHtml;\n",
              "          element.appendChild(docLink);\n",
              "        }\n",
              "      </script>\n",
              "    </div>\n",
              "  </div>\n",
              "  "
            ]
          },
          "metadata": {},
          "execution_count": 296
        }
      ]
    },
    {
      "cell_type": "markdown",
      "metadata": {
        "id": "A9ofBqlwblqZ"
      },
      "source": [
        "##### Naif Model testing definition:"
      ]
    },
    {
      "cell_type": "code",
      "execution_count": null,
      "metadata": {
        "id": "s0jhRUYcblqZ"
      },
      "outputs": [],
      "source": [
        "def naif_model_testing(X_train, X_test, y_train, y_test):\n",
        "        \n",
        "    rfc= RandomForestClassifier(n_estimators=100, random_state=123)\n",
        "    rfc.fit(X_train, y_train)\n",
        "\n",
        "    dtc= DecisionTreeClassifier(max_depth=None, random_state=123)\n",
        "    dtc.fit(X_train, y_train)\n",
        "\n",
        "    lgr=LogisticRegression(multi_class=\"ovr\", random_state=123)\n",
        "    lgr.fit(X_train, y_train)\n",
        "    \n",
        "    knn=KNeighborsClassifier(n_neighbors=2, weights=\"distance\")\n",
        "    knn.fit(X_train, y_train,)\n",
        "       \n",
        "    svm=SVC(random_state=123)\n",
        "    svm.fit(X_train, y_train)\n",
        "    \n",
        "    rf_preds=rfc.predict(X_test)\n",
        "    rfc_score=rfc.score(X_test,y_test)\n",
        "    \n",
        "    dt_preds=dtc.predict(X_test)\n",
        "    dtc_score=dtc.score(X_test,y_test)\n",
        "    \n",
        "    lr_preds=lgr.predict(X_test)\n",
        "    lgr_score=lgr.score(X_test,y_test)\n",
        "    \n",
        "    knn_preds=knn.predict(X_test)\n",
        "    knn_score=knn.score(X_test,y_test)\n",
        "    \n",
        "    svm_preds=svm.predict(X_test)\n",
        "    svm_score=svm.score(X_test,y_test)\n",
        "\n",
        "    print(\"Logistic Regression\")       \n",
        "    print(\"RVE:   %7.4f\" % explained_variance_score(y_test, lr_preds))\n",
        "    print(\"Score: %7.4f\" % lgr_score)\n",
        "    print(\"KNNeighbors Classifier\")  \n",
        "    print(\"RVE:   %7.4f\" % explained_variance_score(y_test, knn_preds))\n",
        "    print(\"Score: %7.4f\" % knn_score)\n",
        "    print(\"Suport Vector Machine Classifier\")\n",
        "    print(\"RVE:   %7.4f\" % explained_variance_score(y_test, svm_preds))\n",
        "    print(\"Score: %7.4f\" % svm_score)\n",
        "    print(\"Random Forest Classifier\")\n",
        "    print(\"RVE:   %7.4f\" % explained_variance_score(y_test, rf_preds))\n",
        "    print(\"Score: %7.4f\" % rfc_score)\n",
        "    print(\"Decision Trees Classifier\")\n",
        "    print(\"RVE:   %7.4f\" % explained_variance_score(y_test, dt_preds))\n",
        "    print(\"Score: %7.4f\" % dtc_score)\n"
      ]
    },
    {
      "cell_type": "markdown",
      "source": [
        "#### Naif testing for All Features (2.4)"
      ],
      "metadata": {
        "id": "h2g-7gt4gSpb"
      }
    },
    {
      "cell_type": "code",
      "source": [
        "naif_model_testing(X_train, X_test, y_train, y_test)"
      ],
      "metadata": {
        "colab": {
          "base_uri": "https://localhost:8080/"
        },
        "id": "ZDjqPEragK_G",
        "outputId": "5befd9a6-34a0-49bd-a162-2865b6402b06"
      },
      "execution_count": null,
      "outputs": [
        {
          "output_type": "stream",
          "name": "stdout",
          "text": [
            "Logistic Regression\n",
            "RVE:    0.5013\n",
            "Score:  0.9264\n",
            "KNNeighbors Classifier\n",
            "RVE:    0.7139\n",
            "Score:  0.9588\n",
            "Suport Vector Machine Classifier\n",
            "RVE:    0.5558\n",
            "Score:  0.9351\n",
            "Random Forest Classifier\n",
            "RVE:    0.7968\n",
            "Score:  0.9711\n",
            "Decision Trees Classifier\n",
            "RVE:    0.6665\n",
            "Score:  0.9527\n"
          ]
        }
      ]
    },
    {
      "cell_type": "markdown",
      "metadata": {
        "id": "C9uyh4fablqd"
      },
      "source": [
        "#### Naif Testing for Selected Features using Random Forest (2.4)"
      ]
    },
    {
      "cell_type": "code",
      "execution_count": null,
      "metadata": {
        "colab": {
          "base_uri": "https://localhost:8080/"
        },
        "id": "0aEFTdvFblqd",
        "outputId": "ab3d87a6-5253-45dd-e229-09355ba050f2"
      },
      "outputs": [
        {
          "output_type": "stream",
          "name": "stdout",
          "text": [
            "Logistic Regression\n",
            "RVE:    0.4098\n",
            "Score:  0.9097\n",
            "KNNeighbors Classifier\n",
            "RVE:    0.7009\n",
            "Score:  0.9571\n",
            "Suport Vector Machine Classifier\n",
            "RVE:    0.5535\n",
            "Score:  0.9334\n",
            "Random Forest Classifier\n",
            "RVE:    0.7480\n",
            "Score:  0.9641\n",
            "Decision Trees Classifier\n",
            "RVE:    0.6008\n",
            "Score:  0.9430\n"
          ]
        }
      ],
      "source": [
        "naif_model_testing(rfX_train, rfX_test, y_train, y_test)"
      ]
    },
    {
      "cell_type": "markdown",
      "metadata": {
        "id": "8d2lMvzeblqe"
      },
      "source": [
        "#### Naif Testing for Selected Features Using Logistic Regression (2.4)"
      ]
    },
    {
      "cell_type": "code",
      "execution_count": null,
      "metadata": {
        "colab": {
          "base_uri": "https://localhost:8080/"
        },
        "id": "V2gn_0IUblqe",
        "outputId": "b1dd4aa6-e997-486b-87c6-8d821775de84"
      },
      "outputs": [
        {
          "output_type": "stream",
          "name": "stdout",
          "text": [
            "Logistic Regression\n",
            "RVE:    0.4358\n",
            "Score:  0.9141\n",
            "KNNeighbors Classifier\n",
            "RVE:    0.6579\n",
            "Score:  0.9509\n",
            "Suport Vector Machine Classifier\n",
            "RVE:    0.5952\n",
            "Score:  0.9404\n",
            "Random Forest Classifier\n",
            "RVE:    0.7416\n",
            "Score:  0.9632\n",
            "Decision Trees Classifier\n",
            "RVE:    0.6476\n",
            "Score:  0.9500\n"
          ]
        }
      ],
      "source": [
        "naif_model_testing(lgX_train, lgX_test, y_train, y_test)"
      ]
    },
    {
      "cell_type": "markdown",
      "metadata": {
        "id": "jKpKFE2f7CN_"
      },
      "source": [
        "## Model Validation and Selection (3, 3.1)"
      ]
    },
    {
      "cell_type": "markdown",
      "source": [
        "### Grid Search Cross Validation for the entire dataset (3, 3.1)"
      ],
      "metadata": {
        "id": "XJhE0E3P6W8l"
      }
    },
    {
      "cell_type": "code",
      "execution_count": null,
      "metadata": {
        "colab": {
          "base_uri": "https://localhost:8080/"
        },
        "id": "tDDO2NxDblqf",
        "outputId": "bcd4a105-bec9-43be-a90d-84451eb9848c"
      },
      "outputs": [
        {
          "output_type": "stream",
          "name": "stdout",
          "text": [
            "model # 0\n",
            "model name LogisticRegression(multi_class='ovr', random_state=42)\n",
            "{'C': 0.1, 'penalty': 'l1', 'solver': 'liblinear', 'tol': 0.001}\n",
            "Score: 0.9370524450239083\n",
            "MCC:  0.6129\n",
            "Prc:  0.8994\n",
            "Rec:  0.9926\n",
            "F1 :  0.9437\n",
            "This is the Confusion Matrix\n",
            "    0    1\n",
            "0  90  105\n",
            "1   7  939\n",
            "Elapsed time in seconds: 2.863485901\n",
            "-----------------------------------------------\n",
            "model # 1\n",
            "model name KNeighborsClassifier()\n",
            "{'n_neighbors': 1, 'weights': 'uniform'}\n",
            "Score: 0.9731131189019734\n",
            "MCC:  0.8494\n",
            "Prc:  0.9610\n",
            "Rec:  0.9905\n",
            "F1 :  0.9755\n",
            "This is the Confusion Matrix\n",
            "     0    1\n",
            "0  157   38\n",
            "1    9  937\n",
            "Elapsed time in seconds: 3.782071126\n",
            "-----------------------------------------------\n",
            "model # 4\n",
            "model name DecisionTreeClassifier(random_state=42)\n",
            "{'class_weight': 'balanced', 'criterion': 'entropy', 'max_depth': None, 'min_samples_split': 2, 'splitter': 'best'}\n",
            "Score: 0.9661842174897481\n",
            "MCC:  0.8186\n",
            "Prc:  0.9616\n",
            "Rec:  0.9789\n",
            "F1 :  0.9701\n",
            "This is the Confusion Matrix\n",
            "     0    1\n",
            "0  158   37\n",
            "1   20  926\n",
            "Elapsed time in seconds: 3.8953126549999997\n",
            "-----------------------------------------------\n",
            "model # 2\n",
            "model name SVC(random_state=42)\n",
            "{'C': 100, 'gamma': 'scale', 'kernel': 'rbf'}\n",
            "Score: 0.9800209355213733\n",
            "MCC:  0.8697\n",
            "Prc:  0.9689\n",
            "Rec:  0.9884\n",
            "F1 :  0.9785\n",
            "This is the Confusion Matrix\n",
            "     0    1\n",
            "0  165   30\n",
            "1   11  935\n",
            "Elapsed time in seconds: 29.387113036\n",
            "-----------------------------------------------\n",
            "model # 3\n",
            "model name RandomForestClassifier(random_state=42)\n",
            "{'criterion': 'gini', 'max_depth': None, 'min_samples_split': 2, 'n_estimators': 300}\n",
            "Score: 0.981004025750995\n",
            "MCC:  0.8927\n",
            "Prc:  0.9750\n",
            "Rec:  0.9894\n",
            "F1 :  0.9822\n",
            "This is the Confusion Matrix\n",
            "     0    1\n",
            "0  171   24\n",
            "1   10  936\n",
            "Elapsed time in seconds: 166.44102887300002\n",
            "-----------------------------------------------\n"
          ]
        }
      ],
      "source": [
        "from sklearn.model_selection import GridSearchCV\n",
        "from sklearn.linear_model import LogisticRegression\n",
        "from sklearn.svm import SVC\n",
        "from sklearn.ensemble import RandomForestClassifier\n",
        "from sklearn.neighbors import KNeighborsClassifier\n",
        "from sklearn import tree\n",
        "from sklearn.tree import DecisionTreeClassifier\n",
        "from sklearn.metrics import f1_score, confusion_matrix,matthews_corrcoef, precision_score, recall_score\n",
        "from multiprocessing import Process\n",
        "from time import process_time\n",
        "grid_searchList = []\n",
        "\n",
        "# Define the models to be evaluated\n",
        "models = [\n",
        "    LogisticRegression(multi_class=\"ovr\",random_state=42),\n",
        "    KNeighborsClassifier(),\n",
        "    SVC(random_state=42),\n",
        "    RandomForestClassifier(random_state=42),\n",
        "    DecisionTreeClassifier(random_state=42)\n",
        "]\n",
        "\n",
        "# Define the grid of hyperparameters to be searched\n",
        "param_grids = [\n",
        "    {\n",
        "        # default=1.0, smaller values specify stronger regularization\n",
        "        'C': [1e-1, 1e-2, 1e-3, 1e-4, 1e-5],\n",
        "        # default=’l2’\n",
        "        'penalty': ['l1', 'l2'],\n",
        "        #  default=’lbfgs’\n",
        "        'solver': ['liblinear'],\n",
        "        #  default=1e-4, Tolerance for stopping criteria\n",
        "        'tol':[1e-3, 1e-4, 1e-5]\n",
        "    },\n",
        "    {   \n",
        "        # default=5\n",
        "        'n_neighbors': [1,5,10, 15],\n",
        "        # default=’uniform’\n",
        "        'weights': [\"uniform\", \"distance\"]\n",
        "    },\n",
        "    {\n",
        "        # default=1.0, The strength of the regularization is inversely proportional to C\n",
        "        'C': [0.001, 0.1, 1, 10, 100, 1e3],\n",
        "        # default=’scale’\n",
        "        'gamma': ['scale', 'auto'],#, 1e-1, 1e-2, 1e-3, 1e-4],\n",
        "        # default=’rbf’\n",
        "        'kernel': [ 'rbf', 'linear', 'poly']#, 'sigmoid']\n",
        "    },\n",
        "    {\n",
        "        # default=100, The number of trees in the forest\n",
        "        'n_estimators': [100, 200, 300],\n",
        "        # default=None\n",
        "        'max_depth': [None, 5, 10, 20, 40, 50],\n",
        "        # default=2, The minimum number of samples required to split an internal node\n",
        "        'min_samples_split': [2],# 3, 4],\n",
        "        # default=”gini”\n",
        "        'criterion': ['gini', 'entropy']#, 'log_loss']\n",
        "    },\n",
        "    {\n",
        "        # default=\"gini\", quality of a split\n",
        "        'criterion': ['gini','entropy'],\n",
        "        # default=None\n",
        "        'max_depth': [None, 5, 10, 20, 40, 50],\n",
        "        # default=2, The minimum number of samples required to split an internal node\n",
        "        'min_samples_split': [2, 3, 4],\n",
        "        # default=”best”\n",
        "        'splitter': ['best', 'random'],\n",
        "        # default=\"None\"\n",
        "        'class_weight':['balanced']\n",
        "     }\n",
        "\n",
        "]\n",
        "y_trainCasted=y_train.astype('int')\n",
        "y_testCasted=y_test.astype('int')\n",
        "\n",
        "def f(model, param_grid, i):\n",
        "    start_time = process_time()\n",
        "    grid_search = GridSearchCV(model, param_grid, cv=3, scoring='f1')\n",
        "    grid_search.fit(X_train, y_trainCasted)\n",
        "    grid_searchList.append(grid_search)\n",
        "    \n",
        "    # Print the best hyperparameters and the corresponding validation accuracy\n",
        "    print(\"model #\", i)\n",
        "    print(\"model name\", model)\n",
        "    print(grid_search.best_params_)\n",
        "    print(\"Score:\", grid_search.best_score_)\n",
        "    preds=grid_search.best_estimator_.predict(X_test)\n",
        "    print(\"MCC: %7.4f\" % matthews_corrcoef(y_testCasted, preds))\n",
        "    print(\"Prc: %7.4f\" % precision_score(y_testCasted, preds))\n",
        "    print(\"Rec: %7.4f\" % recall_score(y_testCasted, preds))\n",
        "    print(\"F1 : %7.4f\" % f1_score(y_testCasted, preds)) \n",
        "    print(\"This is the Confusion Matrix\")\n",
        "    print(pd.DataFrame(confusion_matrix(y_testCasted, preds)))\n",
        "    end_time = process_time()\n",
        "    print(\"Elapsed time in seconds:\", end_time - start_time)\n",
        "    print(\"-----------------------------------------------\")\n",
        "    \n",
        "procs = []\n",
        "\n",
        "# Perform grid search cross-validation with 3-fold stratified cross-validation\n",
        "# Before Multi-Processing: 63 seconds\n",
        "for model, param_grid, i in zip(models, param_grids, range(len(models))):\n",
        "    p = Process(target=f, args=(model, param_grid, i))\n",
        "    procs.append(p)\n",
        "    p.start()\n",
        "    #p.join()\n",
        "\n",
        "for proc in procs:\n",
        "  proc.join()\n",
        "\n",
        "for grid_search in grid_searchList:\n",
        "    res = pd.DataFrame(grid_search.cv_results_)\n",
        "    res = res.sort_values(by=[\"rank_test_score\"])\n",
        "    res[[\"params\", \"rank_test_score\", \"mean_test_score\", \"std_test_score\"]]"
      ]
    },
    {
      "cell_type": "markdown",
      "source": [
        "### Grid Search Cross Validation for the features chosen by randomforests (3, 3.1)"
      ],
      "metadata": {
        "id": "MpZA33s26ctN"
      }
    },
    {
      "cell_type": "code",
      "execution_count": null,
      "metadata": {
        "id": "GRlHGR89blqf",
        "colab": {
          "base_uri": "https://localhost:8080/"
        },
        "outputId": "43a297e2-9524-4ea9-cd3b-c006e72e1cbe"
      },
      "outputs": [
        {
          "output_type": "stream",
          "name": "stdout",
          "text": [
            "model # 0\n",
            "model name LogisticRegression(multi_class='ovr', random_state=42)\n",
            "{'C': 0.1, 'penalty': 'l1', 'solver': 'liblinear', 'tol': 0.001}\n",
            "Score: 0.9333360405334408\n",
            "MCC:  0.5577\n",
            "Prc:  0.8832\n",
            "Rec:  0.9989\n",
            "F1 :  0.9375\n",
            "This is the Confusion Matrix\n",
            "    0    1\n",
            "0  70  125\n",
            "1   1  945\n",
            "Elapsed time in seconds: 2.152850331\n",
            "-----------------------------------------------\n",
            "model # 4\n",
            "model name DecisionTreeClassifier(random_state=42)\n",
            "{'class_weight': 'balanced', 'criterion': 'entropy', 'max_depth': None, 'min_samples_split': 2, 'splitter': 'best'}\n",
            "Score: 0.964595624607373\n",
            "MCC:  0.7900\n",
            "Prc:  0.9574\n",
            "Rec:  0.9736\n",
            "F1 :  0.9654\n",
            "This is the Confusion Matrix\n",
            "     0    1\n",
            "0  154   41\n",
            "1   25  921\n",
            "Elapsed time in seconds: model #1.957739205 \n",
            "1-----------------------------------------------\n",
            "model name\n",
            " KNeighborsClassifier()\n",
            "{'n_neighbors': 5, 'weights': 'distance'}\n",
            "Score: 0.971741686812628\n",
            "MCC:  0.7952\n",
            "Prc:  0.9482\n",
            "Rec:  0.9873\n",
            "F1 :  0.9674\n",
            "This is the Confusion Matrix\n",
            "     0    1\n",
            "0  144   51\n",
            "1   12  934\n",
            "Elapsed time in seconds: 2.258832386\n",
            "-----------------------------------------------\n",
            "model # 2\n",
            "model name SVC(random_state=42)\n",
            "{'C': 1000.0, 'gamma': 'scale', 'kernel': 'rbf'}\n",
            "Score: 0.9730692454341613\n",
            "MCC:  0.8593\n",
            "Prc:  0.9611\n",
            "Rec:  0.9937\n",
            "F1 :  0.9771\n",
            "This is the Confusion Matrix\n",
            "     0    1\n",
            "0  157   38\n",
            "1    6  940\n",
            "Elapsed time in seconds: 33.01383653\n",
            "-----------------------------------------------\n",
            "model # 3\n",
            "model name RandomForestClassifier(random_state=42)\n",
            "{'criterion': 'gini', 'max_depth': None, 'min_samples_split': 2, 'n_estimators': 200}\n",
            "Score: 0.9771007513560358\n",
            "MCC:  0.8730\n",
            "Prc:  0.9699\n",
            "Rec:  0.9884\n",
            "F1 :  0.9791\n",
            "This is the Confusion Matrix\n",
            "     0    1\n",
            "0  166   29\n",
            "1   11  935\n",
            "Elapsed time in seconds: 120.849312236\n",
            "-----------------------------------------------\n"
          ]
        }
      ],
      "source": [
        "def f(model, param_grid, i):\n",
        "    start_time = process_time()\n",
        "    grid_search = GridSearchCV(model, param_grid, cv=3, scoring='f1')\n",
        "    grid_search.fit(rfX_train, y_trainCasted)\n",
        "    grid_searchList.append(grid_search)\n",
        "    \n",
        "    print(\"model #\", i)\n",
        "    print(\"model name\", model)\n",
        "    print(grid_search.best_params_)\n",
        "    print(\"Score:\", grid_search.best_score_)\n",
        "    preds=grid_search.best_estimator_.predict(rfX_test)\n",
        "    print(\"MCC: %7.4f\" % matthews_corrcoef(y_testCasted, preds))\n",
        "    print(\"Prc: %7.4f\" % precision_score(y_testCasted, preds))\n",
        "    print(\"Rec: %7.4f\" % recall_score(y_testCasted, preds))\n",
        "    print(\"F1 : %7.4f\" % f1_score(y_testCasted, preds)) \n",
        "    print(\"This is the Confusion Matrix\")\n",
        "    print(pd.DataFrame(confusion_matrix(y_testCasted, preds)))\n",
        "    end_time = process_time()\n",
        "    print(\"Elapsed time in seconds:\", end_time - start_time)\n",
        "    print(\"-----------------------------------------------\")\n",
        "    \n",
        "procs = []\n",
        "\n",
        "for model, param_grid, i in zip(models, param_grids, range(len(models))):\n",
        "    p = Process(target=f, args=(model, param_grid, i))\n",
        "    procs.append(p)\n",
        "    p.start()\n",
        "    #p.join()\n",
        "\n",
        "for proc in procs:\n",
        "        proc.join()\n",
        "\n",
        "for grid_search in grid_searchList:\n",
        "    res = pd.DataFrame(grid_search.cv_results_)\n",
        "    res = res.sort_values(by=[\"rank_test_score\"])\n",
        "    res[[\"params\", \"rank_test_score\", \"mean_test_score\", \"std_test_score\"]]"
      ]
    },
    {
      "cell_type": "markdown",
      "source": [
        "### Grid Search Cross Validation for the features selected by Logistic Regression (3, 3.1)"
      ],
      "metadata": {
        "id": "YCxxu1Zr6t8O"
      }
    },
    {
      "cell_type": "code",
      "source": [
        "def f(model, param_grid, i):\n",
        "    start_time = process_time()\n",
        "    grid_search = GridSearchCV(model, param_grid, cv=3, scoring='f1')\n",
        "    grid_search.fit(lgX_train, y_trainCasted)\n",
        "    grid_searchList.append(grid_search)\n",
        "    \n",
        "    print(\"model #\", i)\n",
        "    print(\"model name\", model)\n",
        "    print(grid_search.best_params_)\n",
        "    print(\"Score:\", grid_search.best_score_)\n",
        "    preds=grid_search.best_estimator_.predict(lgX_test)\n",
        "    print(\"MCC: %7.4f\" % matthews_corrcoef(y_testCasted, preds))\n",
        "    print(\"Prc: %7.4f\" % precision_score(y_testCasted, preds))\n",
        "    print(\"Rec: %7.4f\" % recall_score(y_testCasted, preds))\n",
        "    print(\"F1 : %7.4f\" % f1_score(y_testCasted, preds)) \n",
        "    print(\"This is the Confusion Matrix\")\n",
        "    print(pd.DataFrame(confusion_matrix(y_testCasted, preds)))\n",
        "    end_time = process_time()\n",
        "    print(\"Elapsed time in seconds:\", end_time - start_time)\n",
        "    print(\"----------------------------------------------\")\n",
        "    \n",
        "procs = []\n",
        "\n",
        "for model, param_grid, i in zip(models, param_grids, range(len(models))):\n",
        "    p = Process(target=f, args=(model, param_grid, i))\n",
        "    procs.append(p)\n",
        "    p.start()\n",
        "    #p.join()\n",
        "\n",
        "for proc in procs:\n",
        "        proc.join()\n",
        "\n",
        "for grid_search in grid_searchList:\n",
        "    res = pd.DataFrame(grid_search.cv_results_)\n",
        "    res = res.sort_values(by=[\"rank_test_score\"])\n",
        "    res[[\"params\", \"rank_test_score\", \"mean_test_score\", \"std_test_score\"]]"
      ],
      "metadata": {
        "colab": {
          "base_uri": "https://localhost:8080/"
        },
        "id": "0WfnzxCn5Tjb",
        "outputId": "03986b8d-2e48-430d-ff3b-7bb19146c6d5"
      },
      "execution_count": null,
      "outputs": [
        {
          "output_type": "stream",
          "name": "stdout",
          "text": [
            "model # 0\n",
            "model name LogisticRegression(multi_class='ovr', random_state=42)\n",
            "{'C': 0.1, 'penalty': 'l1', 'solver': 'liblinear', 'tol': 0.001}\n",
            "Score: 0.9342637357715707\n",
            "MCC:  0.5568\n",
            "Prc:  0.8839\n",
            "Rec:  0.9979\n",
            "F1 :  0.9374\n",
            "This is the Confusion Matrix\n",
            "    0    1\n",
            "0  71  124\n",
            "1   2  944\n",
            "Elapsed time in seconds: 2.134106349\n",
            "----------------------------------------------\n",
            "model # 4\n",
            "model name DecisionTreeClassifier(random_state=42)\n",
            "{'class_weight': 'balanced', 'criterion': 'entropy', 'max_depth': 20, 'min_samples_split': 2, 'splitter': 'random'}\n",
            "Score: 0.9664798059196751\n",
            "MCC:  0.8460\n",
            "Prc:  0.9696\n",
            "Rec:  0.9789\n",
            "F1 :  0.9742\n",
            "This is the Confusion Matrix\n",
            "     0    1\n",
            "0  166   29\n",
            "1   20  926\n",
            "Elapsed time in seconds: 1.334122179\n",
            "----------------------------------------------\n",
            "model # 1\n",
            "model name KNeighborsClassifier()\n",
            "{'n_neighbors': 5, 'weights': 'distance'}\n",
            "Score: 0.9735209630547678\n",
            "MCC:  0.8089\n",
            "Prc:  0.9512\n",
            "Rec:  0.9884\n",
            "F1 :  0.9694\n",
            "This is the Confusion Matrix\n",
            "     0    1\n",
            "0  147   48\n",
            "1   11  935\n",
            "Elapsed time in seconds: 2.2506130719999997\n",
            "----------------------------------------------\n",
            "model # 2\n",
            "model name SVC(random_state=42)\n",
            "{'C': 100, 'gamma': 'scale', 'kernel': 'rbf'}\n",
            "Score: 0.9756115759234466\n",
            "MCC:  0.8529\n",
            "Prc:  0.9630\n",
            "Rec:  0.9894\n",
            "F1 :  0.9760\n",
            "This is the Confusion Matrix\n",
            "     0    1\n",
            "0  159   36\n",
            "1   10  936\n",
            "Elapsed time in seconds: 25.878549114\n",
            "----------------------------------------------\n",
            "model # 3\n",
            "model name RandomForestClassifier(random_state=42)\n",
            "{'criterion': 'gini', 'max_depth': None, 'min_samples_split': 2, 'n_estimators': 200}\n",
            "Score: 0.979995078138843\n",
            "MCC:  0.8699\n",
            "Prc:  0.9699\n",
            "Rec:  0.9873\n",
            "F1 :  0.9785\n",
            "This is the Confusion Matrix\n",
            "     0    1\n",
            "0  166   29\n",
            "1   12  934\n",
            "Elapsed time in seconds: 87.441851229\n",
            "----------------------------------------------\n"
          ]
        }
      ]
    }
  ],
  "metadata": {
    "colab": {
      "provenance": [],
      "collapsed_sections": [
        "XOuMDpEnrbeJ",
        "0pWJin1Yblp9",
        "nP_ZedXBblqD",
        "-vLvpzihblqK",
        "FrA4XbLQblqO",
        "AhdOmL0pblqQ",
        "87I1o-p1blqR",
        "7uizwWriblqS",
        "XQZPqTqOblqS",
        "dcFtDaPhblqT",
        "iijER4dDblqU",
        "11329KaysZnL",
        "WKEq0rD0blqV",
        "1NPZALdhblqV",
        "_IfS0rAmblqW",
        "zFtSJt9-blqX",
        "Y_qEh5zxblqZ",
        "A9ofBqlwblqZ",
        "h2g-7gt4gSpb",
        "C9uyh4fablqd",
        "8d2lMvzeblqe",
        "jKpKFE2f7CN_",
        "XJhE0E3P6W8l",
        "MpZA33s26ctN",
        "YCxxu1Zr6t8O"
      ]
    },
    "kernelspec": {
      "display_name": "Python 3",
      "language": "python",
      "name": "python3"
    },
    "language_info": {
      "codemirror_mode": {
        "name": "ipython",
        "version": 3
      },
      "file_extension": ".py",
      "mimetype": "text/x-python",
      "name": "python",
      "nbconvert_exporter": "python",
      "pygments_lexer": "ipython3",
      "version": "3.7.4"
    }
  },
  "nbformat": 4,
  "nbformat_minor": 0
}